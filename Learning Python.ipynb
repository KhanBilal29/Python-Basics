{
 "cells": [
  {
   "cell_type": "code",
   "execution_count": 1,
   "id": "f98044a1",
   "metadata": {},
   "outputs": [],
   "source": [
    "#this is my first python session"
   ]
  },
  {
   "cell_type": "code",
   "execution_count": 2,
   "id": "69978584",
   "metadata": {},
   "outputs": [
    {
     "data": {
      "text/plain": [
       "'this\\nis\\nmy \\nfirst \\npython \\nsession'"
      ]
     },
     "execution_count": 2,
     "metadata": {},
     "output_type": "execute_result"
    }
   ],
   "source": [
    "\"\"\"this\n",
    "is\n",
    "my \n",
    "first \n",
    "python \n",
    "session\"\"\""
   ]
  },
  {
   "cell_type": "code",
   "execution_count": 3,
   "id": "7fa0efe2",
   "metadata": {},
   "outputs": [
    {
     "data": {
      "text/plain": [
       "3"
      ]
     },
     "execution_count": 3,
     "metadata": {},
     "output_type": "execute_result"
    }
   ],
   "source": [
    "1+2"
   ]
  },
  {
   "cell_type": "code",
   "execution_count": 4,
   "id": "794888ab",
   "metadata": {},
   "outputs": [
    {
     "ename": "NameError",
     "evalue": "name 'hvgjhbkjlml' is not defined",
     "output_type": "error",
     "traceback": [
      "\u001b[0;31m---------------------------------------------------------------------------\u001b[0m",
      "\u001b[0;31mNameError\u001b[0m                                 Traceback (most recent call last)",
      "Input \u001b[0;32mIn [4]\u001b[0m, in \u001b[0;36m<cell line: 1>\u001b[0;34m()\u001b[0m\n\u001b[0;32m----> 1\u001b[0m \u001b[43mhvgjhbkjlml\u001b[49m;jkb\n",
      "\u001b[0;31mNameError\u001b[0m: name 'hvgjhbkjlml' is not defined"
     ]
    }
   ],
   "source": [
    "hvgjhbkjlml;jkb"
   ]
  },
  {
   "cell_type": "code",
   "execution_count": null,
   "id": "c2f3c67a",
   "metadata": {},
   "outputs": [],
   "source": [
    "print('Bilal')"
   ]
  },
  {
   "cell_type": "code",
   "execution_count": 5,
   "id": "2ea385fe",
   "metadata": {},
   "outputs": [],
   "source": [
    "a = 10"
   ]
  },
  {
   "cell_type": "code",
   "execution_count": 6,
   "id": "b33e17db",
   "metadata": {},
   "outputs": [
    {
     "data": {
      "text/plain": [
       "10"
      ]
     },
     "execution_count": 6,
     "metadata": {},
     "output_type": "execute_result"
    }
   ],
   "source": [
    "a"
   ]
  },
  {
   "cell_type": "code",
   "execution_count": 7,
   "id": "5f6d9aaf",
   "metadata": {},
   "outputs": [
    {
     "data": {
      "text/plain": [
       "int"
      ]
     },
     "execution_count": 7,
     "metadata": {},
     "output_type": "execute_result"
    }
   ],
   "source": [
    "type(a)"
   ]
  },
  {
   "cell_type": "code",
   "execution_count": 8,
   "id": "99294d77",
   "metadata": {},
   "outputs": [],
   "source": [
    "b = 'fkfkfk'"
   ]
  },
  {
   "cell_type": "code",
   "execution_count": 9,
   "id": "a1dd01d7",
   "metadata": {},
   "outputs": [
    {
     "data": {
      "text/plain": [
       "str"
      ]
     },
     "execution_count": 9,
     "metadata": {},
     "output_type": "execute_result"
    }
   ],
   "source": [
    "type(b)"
   ]
  },
  {
   "cell_type": "code",
   "execution_count": 10,
   "id": "582779e7",
   "metadata": {},
   "outputs": [],
   "source": [
    "c = 9.7887676"
   ]
  },
  {
   "cell_type": "code",
   "execution_count": 11,
   "id": "ce37844b",
   "metadata": {},
   "outputs": [
    {
     "data": {
      "text/plain": [
       "9.7887676"
      ]
     },
     "execution_count": 11,
     "metadata": {},
     "output_type": "execute_result"
    }
   ],
   "source": [
    "c"
   ]
  },
  {
   "cell_type": "code",
   "execution_count": 12,
   "id": "1d533132",
   "metadata": {},
   "outputs": [
    {
     "data": {
      "text/plain": [
       "float"
      ]
     },
     "execution_count": 12,
     "metadata": {},
     "output_type": "execute_result"
    }
   ],
   "source": [
    "type(c)"
   ]
  },
  {
   "cell_type": "code",
   "execution_count": 13,
   "id": "b767fa18",
   "metadata": {},
   "outputs": [],
   "source": [
    "a,b = 23,\"fghjhgfffff\""
   ]
  },
  {
   "cell_type": "code",
   "execution_count": 14,
   "id": "a7271cde",
   "metadata": {},
   "outputs": [
    {
     "name": "stdout",
     "output_type": "stream",
     "text": [
      "23 fghjhgfffff\n"
     ]
    }
   ],
   "source": [
    "print(a,b)"
   ]
  },
  {
   "cell_type": "code",
   "execution_count": 15,
   "id": "889f63da",
   "metadata": {},
   "outputs": [
    {
     "data": {
      "text/plain": [
       "(23, 'fghjhgfffff')"
      ]
     },
     "execution_count": 15,
     "metadata": {},
     "output_type": "execute_result"
    }
   ],
   "source": [
    "a,b"
   ]
  },
  {
   "cell_type": "code",
   "execution_count": 16,
   "id": "074f7396",
   "metadata": {},
   "outputs": [
    {
     "ename": "TypeError",
     "evalue": "type() takes 1 or 3 arguments",
     "output_type": "error",
     "traceback": [
      "\u001b[0;31m---------------------------------------------------------------------------\u001b[0m",
      "\u001b[0;31mTypeError\u001b[0m                                 Traceback (most recent call last)",
      "Input \u001b[0;32mIn [16]\u001b[0m, in \u001b[0;36m<cell line: 1>\u001b[0;34m()\u001b[0m\n\u001b[0;32m----> 1\u001b[0m \u001b[38;5;28;43mtype\u001b[39;49m\u001b[43m(\u001b[49m\u001b[43ma\u001b[49m\u001b[43m,\u001b[49m\u001b[43mb\u001b[49m\u001b[43m)\u001b[49m\n",
      "\u001b[0;31mTypeError\u001b[0m: type() takes 1 or 3 arguments"
     ]
    }
   ],
   "source": [
    "type(a,b)"
   ]
  },
  {
   "cell_type": "code",
   "execution_count": 17,
   "id": "87bd624d",
   "metadata": {},
   "outputs": [
    {
     "data": {
      "text/plain": [
       "int"
      ]
     },
     "execution_count": 17,
     "metadata": {},
     "output_type": "execute_result"
    }
   ],
   "source": [
    "type(a)"
   ]
  },
  {
   "cell_type": "code",
   "execution_count": 18,
   "id": "38334fd9",
   "metadata": {},
   "outputs": [
    {
     "data": {
      "text/plain": [
       "str"
      ]
     },
     "execution_count": 18,
     "metadata": {},
     "output_type": "execute_result"
    }
   ],
   "source": [
    "type(b)"
   ]
  },
  {
   "cell_type": "code",
   "execution_count": 19,
   "id": "9a07c035",
   "metadata": {},
   "outputs": [
    {
     "ename": "SyntaxError",
     "evalue": "invalid syntax (1557463484.py, line 1)",
     "output_type": "error",
     "traceback": [
      "\u001b[0;36m  Input \u001b[0;32mIn [19]\u001b[0;36m\u001b[0m\n\u001b[0;31m    2a = 78\u001b[0m\n\u001b[0m     ^\u001b[0m\n\u001b[0;31mSyntaxError\u001b[0m\u001b[0;31m:\u001b[0m invalid syntax\n"
     ]
    }
   ],
   "source": [
    "2a = 78"
   ]
  },
  {
   "cell_type": "code",
   "execution_count": 20,
   "id": "c8fd0917",
   "metadata": {},
   "outputs": [],
   "source": [
    "a = 78"
   ]
  },
  {
   "cell_type": "code",
   "execution_count": 21,
   "id": "c825d44f",
   "metadata": {},
   "outputs": [
    {
     "data": {
      "text/plain": [
       "78"
      ]
     },
     "execution_count": 21,
     "metadata": {},
     "output_type": "execute_result"
    }
   ],
   "source": [
    "a"
   ]
  },
  {
   "cell_type": "code",
   "execution_count": 22,
   "id": "9299e13a",
   "metadata": {},
   "outputs": [],
   "source": [
    "_b = \"67788888\""
   ]
  },
  {
   "cell_type": "code",
   "execution_count": 23,
   "id": "180d74b2",
   "metadata": {},
   "outputs": [
    {
     "data": {
      "text/plain": [
       "'67788888'"
      ]
     },
     "execution_count": 23,
     "metadata": {},
     "output_type": "execute_result"
    }
   ],
   "source": [
    "_b"
   ]
  },
  {
   "cell_type": "code",
   "execution_count": 24,
   "id": "481ac60d",
   "metadata": {},
   "outputs": [
    {
     "name": "stdout",
     "output_type": "stream",
     "text": [
      "67788888\n"
     ]
    }
   ],
   "source": [
    "print(_b)"
   ]
  },
  {
   "cell_type": "code",
   "execution_count": 25,
   "id": "269f8fbb",
   "metadata": {},
   "outputs": [
    {
     "ename": "SyntaxError",
     "evalue": "invalid syntax (3172793895.py, line 1)",
     "output_type": "error",
     "traceback": [
      "\u001b[0;36m  Input \u001b[0;32mIn [25]\u001b[0;36m\u001b[0m\n\u001b[0;31m    c& = \"fghhj\"\u001b[0m\n\u001b[0m       ^\u001b[0m\n\u001b[0;31mSyntaxError\u001b[0m\u001b[0;31m:\u001b[0m invalid syntax\n"
     ]
    }
   ],
   "source": [
    "c& = \"fghhj\""
   ]
  },
  {
   "cell_type": "code",
   "execution_count": 26,
   "id": "eaa00e84",
   "metadata": {},
   "outputs": [],
   "source": [
    "c = \"fghhj\" "
   ]
  },
  {
   "cell_type": "code",
   "execution_count": 27,
   "id": "d3f2f1de",
   "metadata": {},
   "outputs": [
    {
     "name": "stdout",
     "output_type": "stream",
     "text": [
      "fghhj\n"
     ]
    }
   ],
   "source": [
    "print(c)"
   ]
  },
  {
   "cell_type": "code",
   "execution_count": 28,
   "id": "21f1acf7",
   "metadata": {},
   "outputs": [],
   "source": [
    "b = True\n",
    "c = False"
   ]
  },
  {
   "cell_type": "code",
   "execution_count": 29,
   "id": "852b9f9a",
   "metadata": {},
   "outputs": [
    {
     "data": {
      "text/plain": [
       "bool"
      ]
     },
     "execution_count": 29,
     "metadata": {},
     "output_type": "execute_result"
    }
   ],
   "source": [
    "type(b)"
   ]
  },
  {
   "cell_type": "code",
   "execution_count": 30,
   "id": "55469cb3",
   "metadata": {},
   "outputs": [
    {
     "data": {
      "text/plain": [
       "bool"
      ]
     },
     "execution_count": 30,
     "metadata": {},
     "output_type": "execute_result"
    }
   ],
   "source": [
    "type(c)"
   ]
  },
  {
   "cell_type": "code",
   "execution_count": 31,
   "id": "cec21850",
   "metadata": {},
   "outputs": [
    {
     "name": "stdout",
     "output_type": "stream",
     "text": [
      "4\n"
     ]
    }
   ],
   "source": [
    "print(True+True+True+False+True)"
   ]
  },
  {
   "cell_type": "code",
   "execution_count": 32,
   "id": "0864c4c1",
   "metadata": {},
   "outputs": [
    {
     "name": "stdout",
     "output_type": "stream",
     "text": [
      "0\n"
     ]
    }
   ],
   "source": [
    "print(False-True+True)"
   ]
  },
  {
   "cell_type": "code",
   "execution_count": 33,
   "id": "c18829e2",
   "metadata": {},
   "outputs": [],
   "source": [
    "#True is 1\n",
    "#False is 0"
   ]
  },
  {
   "cell_type": "code",
   "execution_count": 34,
   "id": "c7db1754",
   "metadata": {},
   "outputs": [
    {
     "ename": "ZeroDivisionError",
     "evalue": "division by zero",
     "output_type": "error",
     "traceback": [
      "\u001b[0;31m---------------------------------------------------------------------------\u001b[0m",
      "\u001b[0;31mZeroDivisionError\u001b[0m                         Traceback (most recent call last)",
      "Input \u001b[0;32mIn [34]\u001b[0m, in \u001b[0;36m<cell line: 1>\u001b[0;34m()\u001b[0m\n\u001b[0;32m----> 1\u001b[0m \u001b[38;5;28;43;01mTrue\u001b[39;49;00m\u001b[38;5;241;43m/\u001b[39;49m\u001b[38;5;28;43;01mFalse\u001b[39;49;00m\n",
      "\u001b[0;31mZeroDivisionError\u001b[0m: division by zero"
     ]
    }
   ],
   "source": [
    "True/False"
   ]
  },
  {
   "cell_type": "code",
   "execution_count": 35,
   "id": "812f7851",
   "metadata": {},
   "outputs": [
    {
     "data": {
      "text/plain": [
       "0"
      ]
     },
     "execution_count": 35,
     "metadata": {},
     "output_type": "execute_result"
    }
   ],
   "source": [
    "True*False"
   ]
  },
  {
   "cell_type": "code",
   "execution_count": 36,
   "id": "80a26ed9",
   "metadata": {},
   "outputs": [],
   "source": [
    "n = 45+6j"
   ]
  },
  {
   "cell_type": "code",
   "execution_count": 37,
   "id": "cb1b1ec3",
   "metadata": {},
   "outputs": [
    {
     "data": {
      "text/plain": [
       "complex"
      ]
     },
     "execution_count": 37,
     "metadata": {},
     "output_type": "execute_result"
    }
   ],
   "source": [
    "type(n)"
   ]
  },
  {
   "cell_type": "code",
   "execution_count": 38,
   "id": "b7348f5c",
   "metadata": {},
   "outputs": [
    {
     "data": {
      "text/plain": [
       "45.0"
      ]
     },
     "execution_count": 38,
     "metadata": {},
     "output_type": "execute_result"
    }
   ],
   "source": [
    "n.real"
   ]
  },
  {
   "cell_type": "code",
   "execution_count": 39,
   "id": "7b92ccb4",
   "metadata": {},
   "outputs": [
    {
     "data": {
      "text/plain": [
       "6.0"
      ]
     },
     "execution_count": 39,
     "metadata": {},
     "output_type": "execute_result"
    }
   ],
   "source": [
    "n.imag"
   ]
  },
  {
   "cell_type": "code",
   "execution_count": 40,
   "id": "7f748e91",
   "metadata": {},
   "outputs": [
    {
     "ename": "SyntaxError",
     "evalue": "invalid syntax (3291608174.py, line 1)",
     "output_type": "error",
     "traceback": [
      "\u001b[0;36m  Input \u001b[0;32mIn [40]\u001b[0;36m\u001b[0m\n\u001b[0;31m    n = 45+6g\u001b[0m\n\u001b[0m            ^\u001b[0m\n\u001b[0;31mSyntaxError\u001b[0m\u001b[0;31m:\u001b[0m invalid syntax\n"
     ]
    }
   ],
   "source": [
    "n = 45+6g"
   ]
  },
  {
   "cell_type": "code",
   "execution_count": 41,
   "id": "0f636ded",
   "metadata": {},
   "outputs": [
    {
     "ename": "SyntaxError",
     "evalue": "invalid syntax (2064638547.py, line 1)",
     "output_type": "error",
     "traceback": [
      "\u001b[0;36m  Input \u001b[0;32mIn [41]\u001b[0;36m\u001b[0m\n\u001b[0;31m    n = 45+6a\u001b[0m\n\u001b[0m            ^\u001b[0m\n\u001b[0;31mSyntaxError\u001b[0m\u001b[0;31m:\u001b[0m invalid syntax\n"
     ]
    }
   ],
   "source": [
    "n = 45+6a"
   ]
  },
  {
   "cell_type": "code",
   "execution_count": 42,
   "id": "56fc1dc1",
   "metadata": {},
   "outputs": [
    {
     "ename": "SyntaxError",
     "evalue": "invalid syntax (2874439101.py, line 1)",
     "output_type": "error",
     "traceback": [
      "\u001b[0;36m  Input \u001b[0;32mIn [42]\u001b[0;36m\u001b[0m\n\u001b[0;31m    n = 45+6i\u001b[0m\n\u001b[0m            ^\u001b[0m\n\u001b[0;31mSyntaxError\u001b[0m\u001b[0;31m:\u001b[0m invalid syntax\n"
     ]
    }
   ],
   "source": [
    "n = 45+6i"
   ]
  },
  {
   "cell_type": "code",
   "execution_count": 43,
   "id": "83226bee",
   "metadata": {},
   "outputs": [
    {
     "ename": "SyntaxError",
     "evalue": "invalid syntax (1200746732.py, line 1)",
     "output_type": "error",
     "traceback": [
      "\u001b[0;36m  Input \u001b[0;32mIn [43]\u001b[0;36m\u001b[0m\n\u001b[0;31m    n = 45+6n\u001b[0m\n\u001b[0m            ^\u001b[0m\n\u001b[0;31mSyntaxError\u001b[0m\u001b[0;31m:\u001b[0m invalid syntax\n"
     ]
    }
   ],
   "source": [
    "n = 45+6n"
   ]
  },
  {
   "cell_type": "code",
   "execution_count": 44,
   "id": "ff6f2289",
   "metadata": {},
   "outputs": [],
   "source": [
    "#only j works in complex nos\n",
    "m = 5+2j"
   ]
  },
  {
   "cell_type": "code",
   "execution_count": 45,
   "id": "a621e78b",
   "metadata": {},
   "outputs": [
    {
     "data": {
      "text/plain": [
       "(5+2j)"
      ]
     },
     "execution_count": 45,
     "metadata": {},
     "output_type": "execute_result"
    }
   ],
   "source": [
    "m"
   ]
  },
  {
   "cell_type": "code",
   "execution_count": 46,
   "id": "c606b431",
   "metadata": {},
   "outputs": [
    {
     "data": {
      "text/plain": [
       "complex"
      ]
     },
     "execution_count": 46,
     "metadata": {},
     "output_type": "execute_result"
    }
   ],
   "source": [
    "type(m)"
   ]
  },
  {
   "cell_type": "code",
   "execution_count": 47,
   "id": "34d9caa7",
   "metadata": {},
   "outputs": [
    {
     "data": {
      "text/plain": [
       "(213+120j)"
      ]
     },
     "execution_count": 47,
     "metadata": {},
     "output_type": "execute_result"
    }
   ],
   "source": [
    "n*m"
   ]
  },
  {
   "cell_type": "code",
   "execution_count": 48,
   "id": "0a6e7ad7",
   "metadata": {},
   "outputs": [
    {
     "ename": "TypeError",
     "evalue": "unsupported operand type(s) for +: 'int' and 'str'",
     "output_type": "error",
     "traceback": [
      "\u001b[0;31m---------------------------------------------------------------------------\u001b[0m",
      "\u001b[0;31mTypeError\u001b[0m                                 Traceback (most recent call last)",
      "Input \u001b[0;32mIn [48]\u001b[0m, in \u001b[0;36m<cell line: 1>\u001b[0;34m()\u001b[0m\n\u001b[0;32m----> 1\u001b[0m \u001b[38;5;241;43m1\u001b[39;49m\u001b[38;5;241;43m+\u001b[39;49m\u001b[38;5;124;43m\"\u001b[39;49m\u001b[38;5;124;43mBilal\u001b[39;49m\u001b[38;5;124;43m\"\u001b[39;49m\n",
      "\u001b[0;31mTypeError\u001b[0m: unsupported operand type(s) for +: 'int' and 'str'"
     ]
    }
   ],
   "source": [
    "1+\"Bilal\""
   ]
  },
  {
   "cell_type": "code",
   "execution_count": 49,
   "id": "8fad4633",
   "metadata": {},
   "outputs": [
    {
     "ename": "TypeError",
     "evalue": "unsupported operand type(s) for +: 'int' and 'str'",
     "output_type": "error",
     "traceback": [
      "\u001b[0;31m---------------------------------------------------------------------------\u001b[0m",
      "\u001b[0;31mTypeError\u001b[0m                                 Traceback (most recent call last)",
      "Input \u001b[0;32mIn [49]\u001b[0m, in \u001b[0;36m<cell line: 1>\u001b[0;34m()\u001b[0m\n\u001b[0;32m----> 1\u001b[0m \u001b[38;5;28mprint\u001b[39m(\u001b[38;5;241;43m1\u001b[39;49m\u001b[38;5;241;43m+\u001b[39;49m\u001b[38;5;124;43m\"\u001b[39;49m\u001b[38;5;124;43mBilal\u001b[39;49m\u001b[38;5;124;43m\"\u001b[39;49m)\n",
      "\u001b[0;31mTypeError\u001b[0m: unsupported operand type(s) for +: 'int' and 'str'"
     ]
    }
   ],
   "source": [
    "print(1+\"Bilal\")"
   ]
  },
  {
   "cell_type": "code",
   "execution_count": 50,
   "id": "ef325c28",
   "metadata": {},
   "outputs": [
    {
     "data": {
      "text/plain": [
       "'1Bilal'"
      ]
     },
     "execution_count": 50,
     "metadata": {},
     "output_type": "execute_result"
    }
   ],
   "source": [
    " str(1)+\"Bilal\""
   ]
  },
  {
   "cell_type": "code",
   "execution_count": 51,
   "id": "f8eaeb56",
   "metadata": {},
   "outputs": [
    {
     "name": "stdout",
     "output_type": "stream",
     "text": [
      "2Bilal\n"
     ]
    }
   ],
   "source": [
    "print(str(2)+\"Bilal\")"
   ]
  },
  {
   "cell_type": "code",
   "execution_count": 52,
   "id": "8dfeebac",
   "metadata": {},
   "outputs": [
    {
     "data": {
      "text/plain": [
       "2.0"
      ]
     },
     "execution_count": 52,
     "metadata": {},
     "output_type": "execute_result"
    }
   ],
   "source": [
    "1+1.0"
   ]
  },
  {
   "cell_type": "code",
   "execution_count": 53,
   "id": "56686c38",
   "metadata": {},
   "outputs": [
    {
     "data": {
      "text/plain": [
       "'BilalBilalBilal'"
      ]
     },
     "execution_count": 53,
     "metadata": {},
     "output_type": "execute_result"
    }
   ],
   "source": [
    "\"Bilal\" + \"Bilal\" + \"Bilal\""
   ]
  },
  {
   "cell_type": "code",
   "execution_count": 54,
   "id": "de9915be",
   "metadata": {},
   "outputs": [
    {
     "data": {
      "text/plain": [
       "'BilalBilalBilal'"
      ]
     },
     "execution_count": 54,
     "metadata": {},
     "output_type": "execute_result"
    }
   ],
   "source": [
    "\"Bilal\"*3"
   ]
  },
  {
   "cell_type": "code",
   "execution_count": 55,
   "id": "c7fb9dfc",
   "metadata": {},
   "outputs": [
    {
     "ename": "NameError",
     "evalue": "name 'Bilal' is not defined",
     "output_type": "error",
     "traceback": [
      "\u001b[0;31m---------------------------------------------------------------------------\u001b[0m",
      "\u001b[0;31mNameError\u001b[0m                                 Traceback (most recent call last)",
      "Input \u001b[0;32mIn [55]\u001b[0m, in \u001b[0;36m<cell line: 1>\u001b[0;34m()\u001b[0m\n\u001b[0;32m----> 1\u001b[0m \u001b[43mBilal\u001b[49m\u001b[38;5;241m*\u001b[39m\u001b[38;5;241m3\u001b[39m\n",
      "\u001b[0;31mNameError\u001b[0m: name 'Bilal' is not defined"
     ]
    }
   ],
   "source": [
    "Bilal*3"
   ]
  },
  {
   "cell_type": "code",
   "execution_count": 56,
   "id": "83db34fb",
   "metadata": {},
   "outputs": [
    {
     "ename": "NameError",
     "evalue": "name 'Bilal' is not defined",
     "output_type": "error",
     "traceback": [
      "\u001b[0;31m---------------------------------------------------------------------------\u001b[0m",
      "\u001b[0;31mNameError\u001b[0m                                 Traceback (most recent call last)",
      "Input \u001b[0;32mIn [56]\u001b[0m, in \u001b[0;36m<cell line: 1>\u001b[0;34m()\u001b[0m\n\u001b[0;32m----> 1\u001b[0m \u001b[43mBilal\u001b[49m\u001b[38;5;241m*\u001b[39mBilal\n",
      "\u001b[0;31mNameError\u001b[0m: name 'Bilal' is not defined"
     ]
    }
   ],
   "source": [
    "Bilal*Bilal"
   ]
  },
  {
   "cell_type": "code",
   "execution_count": 57,
   "id": "94864686",
   "metadata": {},
   "outputs": [
    {
     "data": {
      "text/plain": [
       "'Bilal+Bilal'"
      ]
     },
     "execution_count": 57,
     "metadata": {},
     "output_type": "execute_result"
    }
   ],
   "source": [
    "\"Bilal+Bilal\""
   ]
  },
  {
   "cell_type": "code",
   "execution_count": 58,
   "id": "c1354b61",
   "metadata": {},
   "outputs": [
    {
     "data": {
      "text/plain": [
       "34"
      ]
     },
     "execution_count": 58,
     "metadata": {},
     "output_type": "execute_result"
    }
   ],
   "source": [
    "int('34')"
   ]
  },
  {
   "cell_type": "code",
   "execution_count": 59,
   "id": "81549309",
   "metadata": {},
   "outputs": [],
   "source": [
    "a=10"
   ]
  },
  {
   "cell_type": "code",
   "execution_count": 60,
   "id": "69155e80",
   "metadata": {},
   "outputs": [
    {
     "name": "stdout",
     "output_type": "stream",
     "text": [
      "enter a integer 5\n"
     ]
    }
   ],
   "source": [
    "b = input(\"enter a integer \")"
   ]
  },
  {
   "cell_type": "code",
   "execution_count": 61,
   "id": "bcf0efcd",
   "metadata": {},
   "outputs": [
    {
     "data": {
      "text/plain": [
       "'5'"
      ]
     },
     "execution_count": 61,
     "metadata": {},
     "output_type": "execute_result"
    }
   ],
   "source": [
    "b"
   ]
  },
  {
   "cell_type": "code",
   "execution_count": 62,
   "id": "72c7a71f",
   "metadata": {},
   "outputs": [
    {
     "data": {
      "text/plain": [
       "str"
      ]
     },
     "execution_count": 62,
     "metadata": {},
     "output_type": "execute_result"
    }
   ],
   "source": [
    "type(b)"
   ]
  },
  {
   "cell_type": "code",
   "execution_count": 63,
   "id": "acbed649",
   "metadata": {},
   "outputs": [
    {
     "name": "stdout",
     "output_type": "stream",
     "text": [
      "enter a 1st integer 6\n",
      "enter a 2nd integer 7\n",
      "enter a 3rd integer 8\n"
     ]
    }
   ],
   "source": [
    "x = int(input(\"enter a 1st integer \"))\n",
    "y = int(input(\"enter a 2nd integer \"))\n",
    "z = int(input(\"enter a 3rd integer \"))"
   ]
  },
  {
   "cell_type": "code",
   "execution_count": 64,
   "id": "30970fe5",
   "metadata": {},
   "outputs": [
    {
     "data": {
      "text/plain": [
       "(6, 7, 8)"
      ]
     },
     "execution_count": 64,
     "metadata": {},
     "output_type": "execute_result"
    }
   ],
   "source": [
    "x,y,z"
   ]
  },
  {
   "cell_type": "code",
   "execution_count": 65,
   "id": "665c6233",
   "metadata": {},
   "outputs": [],
   "source": [
    "o = (x+y)/z"
   ]
  },
  {
   "cell_type": "code",
   "execution_count": 66,
   "id": "c43a76f5",
   "metadata": {},
   "outputs": [
    {
     "data": {
      "text/plain": [
       "1.625"
      ]
     },
     "execution_count": 66,
     "metadata": {},
     "output_type": "execute_result"
    }
   ],
   "source": [
    "o"
   ]
  },
  {
   "cell_type": "code",
   "execution_count": 67,
   "id": "75c5db3e",
   "metadata": {},
   "outputs": [],
   "source": [
    "d = o+(3+8j)"
   ]
  },
  {
   "cell_type": "code",
   "execution_count": 68,
   "id": "7924060a",
   "metadata": {},
   "outputs": [
    {
     "data": {
      "text/plain": [
       "(4.625+8j)"
      ]
     },
     "execution_count": 68,
     "metadata": {},
     "output_type": "execute_result"
    }
   ],
   "source": [
    "d"
   ]
  },
  {
   "cell_type": "code",
   "execution_count": 69,
   "id": "5e154e3c",
   "metadata": {},
   "outputs": [
    {
     "data": {
      "text/plain": [
       "complex"
      ]
     },
     "execution_count": 69,
     "metadata": {},
     "output_type": "execute_result"
    }
   ],
   "source": [
    "type(d)"
   ]
  },
  {
   "cell_type": "code",
   "execution_count": 70,
   "id": "86c5ae5a",
   "metadata": {},
   "outputs": [],
   "source": [
    "k = str(d) + \"Bilal\""
   ]
  },
  {
   "cell_type": "code",
   "execution_count": 71,
   "id": "8282298c",
   "metadata": {},
   "outputs": [
    {
     "data": {
      "text/plain": [
       "'(4.625+8j)Bilal'"
      ]
     },
     "execution_count": 71,
     "metadata": {},
     "output_type": "execute_result"
    }
   ],
   "source": [
    "k"
   ]
  },
  {
   "cell_type": "code",
   "execution_count": 72,
   "id": "f98b7319",
   "metadata": {},
   "outputs": [
    {
     "name": "stdout",
     "output_type": "stream",
     "text": [
      "enter a number 45\n",
      "number is less than 100\n"
     ]
    }
   ],
   "source": [
    "a = int(input('enter a number ' ))\n",
    "if a < 34:\n",
    "        print('number is less than 34 and i am satisfied with it.')\n",
    "elif a <100:\n",
    "    print('number is less than 100')\n",
    "elif a <200:\n",
    "    print('number is less than 200')    \n",
    "    \n",
    "else:\n",
    "    print('invalid number')\n",
    "    "
   ]
  },
  {
   "cell_type": "code",
   "execution_count": 73,
   "id": "7db6c026",
   "metadata": {},
   "outputs": [
    {
     "name": "stdout",
     "output_type": "stream",
     "text": [
      "Enter Salary 6000\n",
      "buy a car\n",
      "buy a bunglow\n"
     ]
    }
   ],
   "source": [
    "salary = int(input('Enter Salary '))\n",
    "if salary > 1000:\n",
    "    print('buy a car')\n",
    "    if salary < 5000:\n",
    "        print(\"buy a house\")\n",
    "        if True:\n",
    "            print('false code')\n",
    "    elif salary < 10000:\n",
    "        print(\"buy a bunglow\")\n",
    "    elif salary < 20000:\n",
    "        print('buy a house in mumbai')\n",
    "elif salary > 500:\n",
    "    print(\"buy a bike\")\n",
    "elif salary > 100:\n",
    "    print('house maintenance')\n",
    "else:\n",
    "    print('i will do nothing')"
   ]
  },
  {
   "cell_type": "code",
   "execution_count": 74,
   "id": "08a7a420",
   "metadata": {},
   "outputs": [
    {
     "name": "stdout",
     "output_type": "stream",
     "text": [
      "this statement is valid inside elif\n"
     ]
    }
   ],
   "source": [
    "a = 10\n",
    "b = 20\n",
    "if a == 10 and b < 20:\n",
    "    print(\"it is a valid statement\")\n",
    "elif a == 10 and b <= 20:\n",
    "    print(\"this statement is valid inside elif\")\n",
    "else:\n",
    "    print(\"statement is not valid\")"
   ]
  },
  {
   "cell_type": "code",
   "execution_count": 75,
   "id": "d0f980d3",
   "metadata": {},
   "outputs": [
    {
     "data": {
      "text/plain": [
       "True"
      ]
     },
     "execution_count": 75,
     "metadata": {},
     "output_type": "execute_result"
    }
   ],
   "source": [
    "a == 10 and b == 20"
   ]
  },
  {
   "cell_type": "code",
   "execution_count": 76,
   "id": "bf786377",
   "metadata": {},
   "outputs": [
    {
     "data": {
      "text/plain": [
       "True"
      ]
     },
     "execution_count": 76,
     "metadata": {},
     "output_type": "execute_result"
    }
   ],
   "source": [
    "a == 10"
   ]
  },
  {
   "cell_type": "code",
   "execution_count": 77,
   "id": "015f0d3c",
   "metadata": {},
   "outputs": [
    {
     "data": {
      "text/plain": [
       "True"
      ]
     },
     "execution_count": 77,
     "metadata": {},
     "output_type": "execute_result"
    }
   ],
   "source": [
    "b == 20"
   ]
  },
  {
   "cell_type": "code",
   "execution_count": 78,
   "id": "8bac6dec",
   "metadata": {},
   "outputs": [
    {
     "data": {
      "text/plain": [
       "True"
      ]
     },
     "execution_count": 78,
     "metadata": {},
     "output_type": "execute_result"
    }
   ],
   "source": [
    "b > a"
   ]
  },
  {
   "cell_type": "code",
   "execution_count": 79,
   "id": "76b7072e",
   "metadata": {},
   "outputs": [
    {
     "data": {
      "text/plain": [
       "True"
      ]
     },
     "execution_count": 79,
     "metadata": {},
     "output_type": "execute_result"
    }
   ],
   "source": [
    "a < b"
   ]
  },
  {
   "cell_type": "code",
   "execution_count": 80,
   "id": "3ed40ba4",
   "metadata": {},
   "outputs": [
    {
     "data": {
      "text/plain": [
       "False"
      ]
     },
     "execution_count": 80,
     "metadata": {},
     "output_type": "execute_result"
    }
   ],
   "source": [
    "a > b"
   ]
  },
  {
   "cell_type": "code",
   "execution_count": 81,
   "id": "73a019ee",
   "metadata": {},
   "outputs": [
    {
     "data": {
      "text/plain": [
       "False"
      ]
     },
     "execution_count": 81,
     "metadata": {},
     "output_type": "execute_result"
    }
   ],
   "source": [
    "b < a"
   ]
  },
  {
   "cell_type": "code",
   "execution_count": 82,
   "id": "35a39e43",
   "metadata": {},
   "outputs": [
    {
     "name": "stdout",
     "output_type": "stream",
     "text": [
      "it is a valid statement\n"
     ]
    }
   ],
   "source": [
    "a = 10\n",
    "b = 20\n",
    "\n",
    "if a == 10 or b > 20:\n",
    "    print(\"it is a valid statement\")\n",
    "elif a == 10 and b < 20:\n",
    "          print(\"this statement is valid inside elif\")\n",
    "else:\n",
    "          print(\"statement is not valid\")"
   ]
  },
  {
   "cell_type": "code",
   "execution_count": 85,
   "id": "c620a548",
   "metadata": {},
   "outputs": [
    {
     "name": "stdout",
     "output_type": "stream",
     "text": [
      "enter your first name Bilal\n",
      "enter your last name Khan\n",
      "name is correct\n"
     ]
    }
   ],
   "source": [
    "\n",
    "firstname = input(\"enter your first name \")\n",
    "lastname = input(\"enter your last name \")\n",
    "\n",
    "if firstname == \"Bilal\" and lastname == \"Khan\":\n",
    "    print(\"name is correct\")\n",
    "else:\n",
    "    print(\"wrong name\")"
   ]
  },
  {
   "cell_type": "code",
   "execution_count": 86,
   "id": "9de3ae7c",
   "metadata": {},
   "outputs": [
    {
     "name": "stdout",
     "output_type": "stream",
     "text": [
      "this is my speed\n",
      "this is my speed\n",
      "this is my speed\n",
      "this is my speed\n",
      "this is my speed\n",
      "this is my speed\n",
      "this is my speed\n",
      "this is my speed\n",
      "this is my speed\n"
     ]
    }
   ],
   "source": [
    "initial_speed = 0\n",
    "final_speed = 100\n",
    "count = 1\n",
    "while initial_speed< final_speed:\n",
    "    print(\"this is my speed\")\n",
    "    count = count +1\n",
    "    if count == 10 :\n",
    "        break"
   ]
  },
  {
   "cell_type": "code",
   "execution_count": 87,
   "id": "d482c398",
   "metadata": {},
   "outputs": [
    {
     "name": "stdout",
     "output_type": "stream",
     "text": [
      "1\n",
      "2\n",
      "3\n",
      "4\n"
     ]
    }
   ],
   "source": [
    "i = 1\n",
    "j = 5\n",
    "while i < j:\n",
    "    print(i)\n",
    "    i = i +1"
   ]
  },
  {
   "cell_type": "code",
   "execution_count": 88,
   "id": "81e19079",
   "metadata": {},
   "outputs": [
    {
     "name": "stdout",
     "output_type": "stream",
     "text": [
      "1\n",
      "2\n",
      "3\n",
      "4\n",
      "5\n",
      "no 10 rs notes are available\n"
     ]
    }
   ],
   "source": [
    "notes = 5\n",
    "i = 1\n",
    "j = 1\n",
    "while i < notes:\n",
    "    print(i)\n",
    "    i += 1\n",
    "else:\n",
    "    while j < 2:\n",
    "        print(i)\n",
    "        j = j +1\n",
    "    print(\"no 10 rs notes are available\")"
   ]
  },
  {
   "cell_type": "code",
   "execution_count": 89,
   "id": "11049dc6",
   "metadata": {},
   "outputs": [],
   "source": [
    "s = 'my name is Bilal'"
   ]
  },
  {
   "cell_type": "code",
   "execution_count": 90,
   "id": "343a4aa5",
   "metadata": {},
   "outputs": [
    {
     "data": {
      "text/plain": [
       "'my name is Bilal'"
      ]
     },
     "execution_count": 90,
     "metadata": {},
     "output_type": "execute_result"
    }
   ],
   "source": [
    "s"
   ]
  },
  {
   "cell_type": "code",
   "execution_count": 91,
   "id": "5b61f804",
   "metadata": {},
   "outputs": [
    {
     "ename": "TypeError",
     "evalue": "'str' object is not callable",
     "output_type": "error",
     "traceback": [
      "\u001b[0;31m---------------------------------------------------------------------------\u001b[0m",
      "\u001b[0;31mTypeError\u001b[0m                                 Traceback (most recent call last)",
      "Input \u001b[0;32mIn [91]\u001b[0m, in \u001b[0;36m<cell line: 1>\u001b[0;34m()\u001b[0m\n\u001b[0;32m----> 1\u001b[0m \u001b[43ms\u001b[49m\u001b[43m(\u001b[49m\u001b[38;5;241;43m3\u001b[39;49m\u001b[43m)\u001b[49m\n",
      "\u001b[0;31mTypeError\u001b[0m: 'str' object is not callable"
     ]
    }
   ],
   "source": [
    "s(3)"
   ]
  },
  {
   "cell_type": "code",
   "execution_count": 92,
   "id": "7ac10552",
   "metadata": {},
   "outputs": [
    {
     "data": {
      "text/plain": [
       "'n'"
      ]
     },
     "execution_count": 92,
     "metadata": {},
     "output_type": "execute_result"
    }
   ],
   "source": [
    "s[3]"
   ]
  },
  {
   "cell_type": "code",
   "execution_count": 93,
   "id": "c2236774",
   "metadata": {},
   "outputs": [
    {
     "data": {
      "text/plain": [
       "'name is'"
      ]
     },
     "execution_count": 93,
     "metadata": {},
     "output_type": "execute_result"
    }
   ],
   "source": [
    "s[3:10]"
   ]
  },
  {
   "cell_type": "code",
   "execution_count": 94,
   "id": "61db84e7",
   "metadata": {},
   "outputs": [
    {
     "data": {
      "text/plain": [
       "'name is'"
      ]
     },
     "execution_count": 94,
     "metadata": {},
     "output_type": "execute_result"
    }
   ],
   "source": [
    "s[3:10:1]"
   ]
  },
  {
   "cell_type": "code",
   "execution_count": 95,
   "id": "bab8d850",
   "metadata": {},
   "outputs": [
    {
     "data": {
      "text/plain": [
       "'nes'"
      ]
     },
     "execution_count": 95,
     "metadata": {},
     "output_type": "execute_result"
    }
   ],
   "source": [
    "s[3:10:3]"
   ]
  },
  {
   "cell_type": "code",
   "execution_count": 96,
   "id": "88c9d08e",
   "metadata": {},
   "outputs": [
    {
     "data": {
      "text/plain": [
       "'nm s'"
      ]
     },
     "execution_count": 96,
     "metadata": {},
     "output_type": "execute_result"
    }
   ],
   "source": [
    "s[3:10:2]"
   ]
  },
  {
   "cell_type": "code",
   "execution_count": 97,
   "id": "57f9bdb1",
   "metadata": {},
   "outputs": [
    {
     "data": {
      "text/plain": [
       "'my name is Bilal'"
      ]
     },
     "execution_count": 97,
     "metadata": {},
     "output_type": "execute_result"
    }
   ],
   "source": [
    "s"
   ]
  },
  {
   "cell_type": "code",
   "execution_count": 98,
   "id": "73041763",
   "metadata": {},
   "outputs": [
    {
     "data": {
      "text/plain": [
       "''"
      ]
     },
     "execution_count": 98,
     "metadata": {},
     "output_type": "execute_result"
    }
   ],
   "source": [
    "s[10:3]"
   ]
  },
  {
   "cell_type": "code",
   "execution_count": 99,
   "id": "3bc72a0a",
   "metadata": {},
   "outputs": [
    {
     "data": {
      "text/plain": [
       "''"
      ]
     },
     "execution_count": 99,
     "metadata": {},
     "output_type": "execute_result"
    }
   ],
   "source": [
    "s[10:3:1]"
   ]
  },
  {
   "cell_type": "code",
   "execution_count": 100,
   "id": "b76d4af4",
   "metadata": {},
   "outputs": [
    {
     "data": {
      "text/plain": [
       "' si ema'"
      ]
     },
     "execution_count": 100,
     "metadata": {},
     "output_type": "execute_result"
    }
   ],
   "source": [
    "s[10:3:-1]"
   ]
  },
  {
   "cell_type": "code",
   "execution_count": 101,
   "id": "189b5bca",
   "metadata": {},
   "outputs": [
    {
     "data": {
      "text/plain": [
       "' iea'"
      ]
     },
     "execution_count": 101,
     "metadata": {},
     "output_type": "execute_result"
    }
   ],
   "source": [
    "s[10:2:-2]"
   ]
  },
  {
   "cell_type": "code",
   "execution_count": 102,
   "id": "56c1a9f8",
   "metadata": {},
   "outputs": [
    {
     "data": {
      "text/plain": [
       "'laliB si eman ym'"
      ]
     },
     "execution_count": 102,
     "metadata": {},
     "output_type": "execute_result"
    }
   ],
   "source": [
    "s[::-1]"
   ]
  },
  {
   "cell_type": "code",
   "execution_count": 103,
   "id": "1c213828",
   "metadata": {},
   "outputs": [
    {
     "data": {
      "text/plain": [
       "' name is'"
      ]
     },
     "execution_count": 103,
     "metadata": {},
     "output_type": "execute_result"
    }
   ],
   "source": [
    "s[2:-6]"
   ]
  },
  {
   "cell_type": "code",
   "execution_count": 104,
   "id": "14b19236",
   "metadata": {},
   "outputs": [
    {
     "name": "stdout",
     "output_type": "stream",
     "text": [
      "m\n",
      "y\n",
      " \n",
      "n\n",
      "a\n",
      "m\n",
      "e\n",
      " \n",
      "i\n",
      "s\n",
      " \n",
      "B\n",
      "i\n",
      "l\n",
      "a\n",
      "l\n"
     ]
    }
   ],
   "source": [
    "for i in s:\n",
    "        print(i)\n"
   ]
  },
  {
   "cell_type": "code",
   "execution_count": 105,
   "id": "d8081cf0",
   "metadata": {},
   "outputs": [
    {
     "name": "stdout",
     "output_type": "stream",
     "text": [
      "m\n",
      "y\n",
      " \n",
      "n\n",
      "a\n",
      "m\n",
      "e\n",
      " \n",
      "i\n",
      "i got s in string\n",
      "s\n",
      " \n",
      "B\n",
      "i\n",
      "l\n",
      "a\n",
      "l\n"
     ]
    }
   ],
   "source": [
    "for i in s:\n",
    "    if i == 's':\n",
    "        print(\"i got s in string\")\n",
    "    print(i)"
   ]
  },
  {
   "cell_type": "code",
   "execution_count": 106,
   "id": "7fa1c032",
   "metadata": {},
   "outputs": [
    {
     "name": "stdout",
     "output_type": "stream",
     "text": [
      "m\n",
      "y\n",
      " \n",
      "n\n",
      "a\n",
      "m\n",
      "e\n",
      " \n",
      "i\n",
      "s\n",
      " \n",
      "B\n",
      "i\n",
      "l\n",
      "a\n",
      "l\n",
      "this is a else condition\n"
     ]
    }
   ],
   "source": [
    "for i in s:\n",
    "    print(i)\n",
    "else:\n",
    "    print(\"this is a else condition\")"
   ]
  },
  {
   "cell_type": "code",
   "execution_count": 107,
   "id": "93dc4e7e",
   "metadata": {},
   "outputs": [
    {
     "name": "stdout",
     "output_type": "stream",
     "text": [
      "m\n",
      "y\n",
      " \n"
     ]
    }
   ],
   "source": [
    "for i in s:\n",
    "    if i == \"n\":\n",
    "        break\n",
    "    print(i)\n",
    "else:\n",
    "    if i == 'l':\n",
    "            print('last char was l')\n",
    "\n",
    "    print('this is a else condition')    "
   ]
  },
  {
   "cell_type": "code",
   "execution_count": 108,
   "id": "069bd8f6",
   "metadata": {},
   "outputs": [
    {
     "name": "stdout",
     "output_type": "stream",
     "text": [
      "m\n",
      "y\n",
      " \n",
      "a\n",
      "m\n",
      "e\n",
      " \n",
      "i\n",
      "s\n",
      " \n",
      "B\n",
      "i\n",
      "l\n",
      "a\n",
      "l\n",
      "last char was l\n",
      "this is a else condition\n"
     ]
    }
   ],
   "source": [
    "for i in s:\n",
    "    if i == \"n\":\n",
    "        continue\n",
    "    print(i)\n",
    "else:\n",
    "    if i == 'l':\n",
    "            print('last char was l')\n",
    "\n",
    "    print('this is a else condition')    "
   ]
  },
  {
   "cell_type": "code",
   "execution_count": 109,
   "id": "f260e39e",
   "metadata": {},
   "outputs": [
    {
     "name": "stdout",
     "output_type": "stream",
     "text": [
      "+ \n",
      "\n",
      "+ + \n",
      "\n",
      "+ + + \n",
      "\n",
      "+ + + + \n",
      "\n",
      "+ + + + + \n",
      "\n",
      "+ + + + + + \n",
      "\n",
      "+ + + + + + + \n",
      "\n"
     ]
    }
   ],
   "source": [
    "n = 7\n",
    "for i in range(0,n):\n",
    "    for j in range(0, i+1):\n",
    "        print('+ ', end = \"\")\n",
    "    print('\\n')    "
   ]
  },
  {
   "cell_type": "code",
   "execution_count": 110,
   "id": "8222aab8",
   "metadata": {},
   "outputs": [
    {
     "name": "stdout",
     "output_type": "stream",
     "text": [
      "+ \n",
      "\n",
      "+ + \n",
      "\n",
      "+ + + \n",
      "\n",
      "+ + + + \n",
      "\n",
      "+ + + + + \n",
      "\n",
      "+ + + + + + \n",
      "\n",
      "+ + + + + + + \n",
      "\n"
     ]
    }
   ],
   "source": [
    "n = 7\n",
    "for i in range(0, n):\n",
    "    for j in range(0, i+1):\n",
    "        print(\"+ \", end = \"\")\n",
    "        \n",
    "    print('\\n')    "
   ]
  },
  {
   "cell_type": "code",
   "execution_count": 113,
   "id": "73afc99a",
   "metadata": {},
   "outputs": [
    {
     "name": "stdout",
     "output_type": "stream",
     "text": [
      "enter the digit 6\n",
      "***********\n",
      " *********\n",
      "  *******\n",
      "   *****\n",
      "    ***\n",
      "     *\n"
     ]
    }
   ],
   "source": [
    "n = int(input(\"enter the digit \"))\n",
    "\n",
    "for i in range(n,0,-1):\n",
    "    for j in range(n-i):\n",
    "        print(\" \", end = \"\")\n",
    "        \n",
    "    for j in range(2*i-1):\n",
    "        print(\"*\", end = \"\")\n",
    "    print()\n",
    "    "
   ]
  },
  {
   "cell_type": "code",
   "execution_count": 115,
   "id": "514c5424",
   "metadata": {},
   "outputs": [
    {
     "name": "stdout",
     "output_type": "stream",
     "text": [
      "        * \n",
      "       * * \n",
      "      * * * \n",
      "     * * * * \n",
      "    * * * * * \n",
      "   * * * * * * \n",
      "  * * * * * * * \n",
      " * * * * * * * * \n",
      "* * * * * * * * * \n"
     ]
    }
   ],
   "source": [
    "i = 0\n",
    "n = 9\n",
    "while i < n:\n",
    "    print(' '*(n-i-1)+\"* \"*(i+1) )\n",
    "    i = i+1"
   ]
  },
  {
   "cell_type": "code",
   "execution_count": 116,
   "id": "2d4e8a52",
   "metadata": {},
   "outputs": [
    {
     "ename": "SyntaxError",
     "evalue": "invalid syntax (1586283009.py, line 1)",
     "output_type": "error",
     "traceback": [
      "\u001b[0;36m  Input \u001b[0;32mIn [116]\u001b[0;36m\u001b[0m\n\u001b[0;31m    l = list[]\u001b[0m\n\u001b[0m             ^\u001b[0m\n\u001b[0;31mSyntaxError\u001b[0m\u001b[0;31m:\u001b[0m invalid syntax\n"
     ]
    }
   ],
   "source": [
    "l = list[]\n",
    "\n",
    "name = \"Bilal\"\n",
    "phno = 475885858\n",
    "addr = \"ssxscscsc\""
   ]
  },
  {
   "cell_type": "code",
   "execution_count": 117,
   "id": "bbc58429",
   "metadata": {},
   "outputs": [],
   "source": [
    "name, phno, addr = \"Bilal\", 475885858, \"ssxscscsc\""
   ]
  },
  {
   "cell_type": "code",
   "execution_count": 118,
   "id": "f316a04d",
   "metadata": {},
   "outputs": [],
   "source": [
    "l = [\"Bilal\", 475885858, \"ssxscscsc\"]"
   ]
  },
  {
   "cell_type": "code",
   "execution_count": 119,
   "id": "16004bd7",
   "metadata": {},
   "outputs": [
    {
     "data": {
      "text/plain": [
       "['Bilal', 475885858, 'ssxscscsc']"
      ]
     },
     "execution_count": 119,
     "metadata": {},
     "output_type": "execute_result"
    }
   ],
   "source": [
    "l"
   ]
  },
  {
   "cell_type": "code",
   "execution_count": 120,
   "id": "2daa66b2",
   "metadata": {},
   "outputs": [
    {
     "data": {
      "text/plain": [
       "475885858"
      ]
     },
     "execution_count": 120,
     "metadata": {},
     "output_type": "execute_result"
    }
   ],
   "source": [
    "l[1]"
   ]
  },
  {
   "cell_type": "code",
   "execution_count": 121,
   "id": "292f9855",
   "metadata": {},
   "outputs": [
    {
     "data": {
      "text/plain": [
       "'Bilal'"
      ]
     },
     "execution_count": 121,
     "metadata": {},
     "output_type": "execute_result"
    }
   ],
   "source": [
    "l[0]"
   ]
  },
  {
   "cell_type": "code",
   "execution_count": 122,
   "id": "df155344",
   "metadata": {},
   "outputs": [
    {
     "data": {
      "text/plain": [
       "'ssxscscsc'"
      ]
     },
     "execution_count": 122,
     "metadata": {},
     "output_type": "execute_result"
    }
   ],
   "source": [
    "l[2]"
   ]
  },
  {
   "cell_type": "code",
   "execution_count": 123,
   "id": "9b6b33b9",
   "metadata": {},
   "outputs": [
    {
     "data": {
      "text/plain": [
       "['Bilal', 475885858, 'ssxscscsc']"
      ]
     },
     "execution_count": 123,
     "metadata": {},
     "output_type": "execute_result"
    }
   ],
   "source": [
    "l"
   ]
  },
  {
   "cell_type": "code",
   "execution_count": 124,
   "id": "c113d076",
   "metadata": {},
   "outputs": [
    {
     "data": {
      "text/plain": [
       "list"
      ]
     },
     "execution_count": 124,
     "metadata": {},
     "output_type": "execute_result"
    }
   ],
   "source": [
    "type(l)"
   ]
  },
  {
   "cell_type": "code",
   "execution_count": 125,
   "id": "84aba58a",
   "metadata": {},
   "outputs": [],
   "source": [
    "l1=[]"
   ]
  },
  {
   "cell_type": "code",
   "execution_count": 126,
   "id": "3db4c371",
   "metadata": {},
   "outputs": [
    {
     "data": {
      "text/plain": [
       "list"
      ]
     },
     "execution_count": 126,
     "metadata": {},
     "output_type": "execute_result"
    }
   ],
   "source": [
    "type(l1)"
   ]
  },
  {
   "cell_type": "code",
   "execution_count": 127,
   "id": "3f00e981",
   "metadata": {},
   "outputs": [],
   "source": [
    "l2 = list()"
   ]
  },
  {
   "cell_type": "code",
   "execution_count": 128,
   "id": "416638c5",
   "metadata": {},
   "outputs": [
    {
     "data": {
      "text/plain": [
       "[]"
      ]
     },
     "execution_count": 128,
     "metadata": {},
     "output_type": "execute_result"
    }
   ],
   "source": [
    "l2"
   ]
  },
  {
   "cell_type": "code",
   "execution_count": 129,
   "id": "b1930988",
   "metadata": {},
   "outputs": [],
   "source": [
    "l = [\"Bilal\", 475885858, \"ssxscscsc\", True, [3,4,5,\"dfg\"], 45+4j, 3.758]"
   ]
  },
  {
   "cell_type": "code",
   "execution_count": 130,
   "id": "460313d2",
   "metadata": {},
   "outputs": [
    {
     "data": {
      "text/plain": [
       "['Bilal', 475885858, 'ssxscscsc', True, [3, 4, 5, 'dfg'], (45+4j), 3.758]"
      ]
     },
     "execution_count": 130,
     "metadata": {},
     "output_type": "execute_result"
    }
   ],
   "source": [
    "l"
   ]
  },
  {
   "cell_type": "code",
   "execution_count": 131,
   "id": "f0e767e5",
   "metadata": {},
   "outputs": [],
   "source": [
    "l2 = [\"ERG\", 456, \"dhfk\"]"
   ]
  },
  {
   "cell_type": "code",
   "execution_count": 132,
   "id": "62d695ef",
   "metadata": {},
   "outputs": [
    {
     "data": {
      "text/plain": [
       "list"
      ]
     },
     "execution_count": 132,
     "metadata": {},
     "output_type": "execute_result"
    }
   ],
   "source": [
    "type(l2)"
   ]
  },
  {
   "cell_type": "code",
   "execution_count": 133,
   "id": "90a30aef",
   "metadata": {},
   "outputs": [
    {
     "data": {
      "text/plain": [
       "['ERG', 456, 'dhfk']"
      ]
     },
     "execution_count": 133,
     "metadata": {},
     "output_type": "execute_result"
    }
   ],
   "source": [
    "l2"
   ]
  },
  {
   "cell_type": "code",
   "execution_count": 134,
   "id": "1d7b347d",
   "metadata": {},
   "outputs": [
    {
     "data": {
      "text/plain": [
       "[['Bilal', 475885858, 'ssxscscsc', True, [3, 4, 5, 'dfg'], (45+4j), 3.758],\n",
       " ['ERG', 456, 'dhfk']]"
      ]
     },
     "execution_count": 134,
     "metadata": {},
     "output_type": "execute_result"
    }
   ],
   "source": [
    "[l]+[l2]"
   ]
  },
  {
   "cell_type": "code",
   "execution_count": 135,
   "id": "ae45496b",
   "metadata": {},
   "outputs": [
    {
     "name": "stdout",
     "output_type": "stream",
     "text": [
      "<class 'str'>\n",
      "<class 'int'>\n",
      "<class 'str'>\n",
      "<class 'bool'>\n",
      "<class 'list'>\n",
      "<class 'complex'>\n",
      "<class 'float'>\n"
     ]
    }
   ],
   "source": [
    "for i in l:\n",
    "    print(type(i))"
   ]
  },
  {
   "cell_type": "code",
   "execution_count": 136,
   "id": "32f3d3d6",
   "metadata": {},
   "outputs": [
    {
     "name": "stdout",
     "output_type": "stream",
     "text": [
      "<class 'int'>\n",
      "<class 'int'>\n",
      "<class 'int'>\n",
      "<class 'str'>\n"
     ]
    }
   ],
   "source": [
    "for i in l:\n",
    "    if type(i) == list:\n",
    "        for j in i :\n",
    "            print(type(j))"
   ]
  },
  {
   "cell_type": "code",
   "execution_count": 137,
   "id": "627db2b4",
   "metadata": {},
   "outputs": [
    {
     "name": "stdout",
     "output_type": "stream",
     "text": [
      "12\n",
      "<class 'str'>\n"
     ]
    }
   ],
   "source": [
    "for i in l:\n",
    "    if type(i) == list:\n",
    "        n = 0\n",
    "        for j in i:\n",
    "            if type(j) == int:\n",
    "                n = n + j\n",
    "        print(n)   \n",
    "        \n",
    "        \n",
    "        print(type(j))"
   ]
  },
  {
   "cell_type": "code",
   "execution_count": 138,
   "id": "b8f0ab18",
   "metadata": {},
   "outputs": [
    {
     "data": {
      "text/plain": [
       "['Bilal', 475885858, 'ssxscscsc', True, [3, 4, 5, 'dfg']]"
      ]
     },
     "execution_count": 138,
     "metadata": {},
     "output_type": "execute_result"
    }
   ],
   "source": [
    "l[0:5]"
   ]
  },
  {
   "cell_type": "code",
   "execution_count": 139,
   "id": "0401daf9",
   "metadata": {},
   "outputs": [
    {
     "data": {
      "text/plain": [
       "[]"
      ]
     },
     "execution_count": 139,
     "metadata": {},
     "output_type": "execute_result"
    }
   ],
   "source": [
    "l[8 : 3]"
   ]
  },
  {
   "cell_type": "code",
   "execution_count": 140,
   "id": "3e7cefab",
   "metadata": {},
   "outputs": [
    {
     "data": {
      "text/plain": [
       "[3.758, [3, 4, 5, 'dfg'], 'ssxscscsc']"
      ]
     },
     "execution_count": 140,
     "metadata": {},
     "output_type": "execute_result"
    }
   ],
   "source": [
    "l[6 : 1: -2]"
   ]
  },
  {
   "cell_type": "code",
   "execution_count": 141,
   "id": "a6b58b0a",
   "metadata": {},
   "outputs": [
    {
     "data": {
      "text/plain": [
       "[3.758, (45+4j), [3, 4, 5, 'dfg']]"
      ]
     },
     "execution_count": 141,
     "metadata": {},
     "output_type": "execute_result"
    }
   ],
   "source": [
    "l[80 : 3 : -1]"
   ]
  },
  {
   "cell_type": "code",
   "execution_count": 142,
   "id": "af26fced",
   "metadata": {},
   "outputs": [
    {
     "name": "stdout",
     "output_type": "stream",
     "text": [
      "4\n",
      "5\n",
      "6\n",
      "7\n",
      "8\n",
      "9\n",
      "10\n",
      "11\n",
      "12\n",
      "13\n",
      "14\n",
      "15\n",
      "16\n",
      "17\n",
      "18\n",
      "19\n",
      "20\n",
      "21\n",
      "22\n",
      "23\n",
      "24\n",
      "25\n",
      "26\n",
      "27\n",
      "28\n",
      "29\n",
      "30\n",
      "31\n",
      "32\n",
      "33\n",
      "34\n",
      "35\n",
      "36\n",
      "37\n",
      "38\n",
      "39\n",
      "40\n",
      "41\n",
      "42\n",
      "43\n",
      "44\n",
      "45\n",
      "46\n",
      "47\n",
      "48\n",
      "49\n"
     ]
    }
   ],
   "source": [
    "for i in range(4,50):\n",
    "    print(i)"
   ]
  },
  {
   "cell_type": "code",
   "execution_count": 143,
   "id": "da407569",
   "metadata": {},
   "outputs": [
    {
     "data": {
      "text/plain": [
       "[0, 1, 2, 3, 4, 5, 6, 7, 8, 9]"
      ]
     },
     "execution_count": 143,
     "metadata": {},
     "output_type": "execute_result"
    }
   ],
   "source": [
    "list(range(10))"
   ]
  },
  {
   "cell_type": "code",
   "execution_count": 144,
   "id": "6dbb80bd",
   "metadata": {},
   "outputs": [
    {
     "name": "stdout",
     "output_type": "stream",
     "text": [
      "4\n",
      "5\n",
      "6\n",
      "7\n",
      "8\n",
      "9\n"
     ]
    }
   ],
   "source": [
    "for i in range(4,10):\n",
    "    print(i)"
   ]
  },
  {
   "cell_type": "code",
   "execution_count": 145,
   "id": "dff23b89",
   "metadata": {},
   "outputs": [
    {
     "data": {
      "text/plain": [
       "range(0, 10)"
      ]
     },
     "execution_count": 145,
     "metadata": {},
     "output_type": "execute_result"
    }
   ],
   "source": [
    "range(10)"
   ]
  },
  {
   "cell_type": "code",
   "execution_count": 146,
   "id": "61ac762b",
   "metadata": {},
   "outputs": [
    {
     "data": {
      "text/plain": [
       "7"
      ]
     },
     "execution_count": 146,
     "metadata": {},
     "output_type": "execute_result"
    }
   ],
   "source": [
    "len(l)"
   ]
  },
  {
   "cell_type": "code",
   "execution_count": 147,
   "id": "8f72f48b",
   "metadata": {},
   "outputs": [
    {
     "ename": "SyntaxError",
     "evalue": "invalid syntax (12238435.py, line 1)",
     "output_type": "error",
     "traceback": [
      "\u001b[0;36m  Input \u001b[0;32mIn [147]\u001b[0;36m\u001b[0m\n\u001b[0;31m    l(4:2:-1)\u001b[0m\n\u001b[0m       ^\u001b[0m\n\u001b[0;31mSyntaxError\u001b[0m\u001b[0;31m:\u001b[0m invalid syntax\n"
     ]
    }
   ],
   "source": [
    "l(4:2:-1)"
   ]
  },
  {
   "cell_type": "code",
   "execution_count": 148,
   "id": "fc16b31a",
   "metadata": {},
   "outputs": [],
   "source": [
    "lst = [3,4,5,6]"
   ]
  },
  {
   "cell_type": "code",
   "execution_count": 149,
   "id": "dc829819",
   "metadata": {},
   "outputs": [
    {
     "data": {
      "text/plain": [
       "[3, 4, 5, 6]"
      ]
     },
     "execution_count": 149,
     "metadata": {},
     "output_type": "execute_result"
    }
   ],
   "source": [
    "lst"
   ]
  },
  {
   "cell_type": "code",
   "execution_count": 150,
   "id": "1852e32d",
   "metadata": {},
   "outputs": [
    {
     "ename": "SyntaxError",
     "evalue": "invalid syntax (1370892011.py, line 1)",
     "output_type": "error",
     "traceback": [
      "\u001b[0;36m  Input \u001b[0;32mIn [150]\u001b[0;36m\u001b[0m\n\u001b[0;31m    lst(3:2:-1)\u001b[0m\n\u001b[0m         ^\u001b[0m\n\u001b[0;31mSyntaxError\u001b[0m\u001b[0;31m:\u001b[0m invalid syntax\n"
     ]
    }
   ],
   "source": [
    "lst(3:2:-1)"
   ]
  },
  {
   "cell_type": "code",
   "execution_count": 151,
   "id": "8f71c84f",
   "metadata": {},
   "outputs": [
    {
     "data": {
      "text/plain": [
       "[6]"
      ]
     },
     "execution_count": 151,
     "metadata": {},
     "output_type": "execute_result"
    }
   ],
   "source": [
    "lst[3:2:-1]"
   ]
  },
  {
   "cell_type": "code",
   "execution_count": 152,
   "id": "1bf626bf",
   "metadata": {},
   "outputs": [],
   "source": [
    "s = 'this is my full stack class'"
   ]
  },
  {
   "cell_type": "code",
   "execution_count": 153,
   "id": "b487a9d3",
   "metadata": {},
   "outputs": [
    {
     "data": {
      "text/plain": [
       "'this is my full stack class'"
      ]
     },
     "execution_count": 153,
     "metadata": {},
     "output_type": "execute_result"
    }
   ],
   "source": [
    "s"
   ]
  },
  {
   "cell_type": "code",
   "execution_count": 154,
   "id": "64a40ad4",
   "metadata": {},
   "outputs": [
    {
     "name": "stdout",
     "output_type": "stream",
     "text": [
      "t\n",
      "h\n",
      "i\n",
      "s\n",
      " \n",
      "i\n",
      "s\n",
      " \n",
      "m\n",
      "y\n",
      " \n",
      "f\n",
      "u\n",
      "l\n",
      "l\n",
      " \n",
      "s\n",
      "t\n",
      "a\n",
      "c\n",
      "k\n",
      " \n",
      "c\n",
      "l\n",
      "a\n",
      "s\n",
      "s\n"
     ]
    }
   ],
   "source": [
    "for i in s:\n",
    "    print(i)"
   ]
  },
  {
   "cell_type": "code",
   "execution_count": 155,
   "id": "cc32f0c1",
   "metadata": {},
   "outputs": [
    {
     "name": "stdout",
     "output_type": "stream",
     "text": [
      "t\n",
      "h\n",
      "i\n",
      "s\n",
      " \n",
      "i\n",
      "s\n",
      " \n",
      "m\n",
      "y\n",
      " \n",
      "f\n",
      "u\n",
      "l\n",
      "l\n",
      " \n",
      "s\n",
      "t\n",
      "a\n",
      "c\n",
      "k\n",
      " \n",
      "c\n",
      "l\n",
      "a\n",
      "s\n",
      "s\n"
     ]
    }
   ],
   "source": [
    "for i in range(len(s)):\n",
    "    print(s[i])"
   ]
  },
  {
   "cell_type": "code",
   "execution_count": 156,
   "id": "f169d853",
   "metadata": {},
   "outputs": [
    {
     "name": "stdout",
     "output_type": "stream",
     "text": [
      "ssalc kcats lluf ym si siht\n",
      "ssalc kcats lluf ym si siht\n",
      "ssalc kcats lluf ym si siht\n",
      "ssalc kcats lluf ym si siht\n",
      "ssalc kcats lluf ym si siht\n",
      "ssalc kcats lluf ym si siht\n",
      "ssalc kcats lluf ym si siht\n",
      "ssalc kcats lluf ym si siht\n",
      "ssalc kcats lluf ym si siht\n",
      "ssalc kcats lluf ym si siht\n",
      "ssalc kcats lluf ym si siht\n",
      "ssalc kcats lluf ym si siht\n",
      "ssalc kcats lluf ym si siht\n",
      "ssalc kcats lluf ym si siht\n",
      "ssalc kcats lluf ym si siht\n",
      "ssalc kcats lluf ym si siht\n",
      "ssalc kcats lluf ym si siht\n",
      "ssalc kcats lluf ym si siht\n",
      "ssalc kcats lluf ym si siht\n",
      "ssalc kcats lluf ym si siht\n",
      "ssalc kcats lluf ym si siht\n",
      "ssalc kcats lluf ym si siht\n",
      "ssalc kcats lluf ym si siht\n",
      "ssalc kcats lluf ym si siht\n",
      "ssalc kcats lluf ym si siht\n",
      "ssalc kcats lluf ym si siht\n",
      "ssalc kcats lluf ym si siht\n"
     ]
    }
   ],
   "source": [
    "for i in range(len(s)):\n",
    "    print(s[::-1])"
   ]
  },
  {
   "cell_type": "code",
   "execution_count": 157,
   "id": "fbee55cb",
   "metadata": {},
   "outputs": [
    {
     "data": {
      "text/plain": [
       "27"
      ]
     },
     "execution_count": 157,
     "metadata": {},
     "output_type": "execute_result"
    }
   ],
   "source": [
    "len(s)"
   ]
  },
  {
   "cell_type": "code",
   "execution_count": 158,
   "id": "27f54724",
   "metadata": {},
   "outputs": [
    {
     "ename": "SyntaxError",
     "evalue": "invalid syntax (2422442176.py, line 2)",
     "output_type": "error",
     "traceback": [
      "\u001b[0;36m  Input \u001b[0;32mIn [158]\u001b[0;36m\u001b[0m\n\u001b[0;31m    print(len(s): -i)\u001b[0m\n\u001b[0m                ^\u001b[0m\n\u001b[0;31mSyntaxError\u001b[0m\u001b[0;31m:\u001b[0m invalid syntax\n"
     ]
    }
   ],
   "source": [
    "for i in s:\n",
    "    print(len(s): -i)"
   ]
  },
  {
   "cell_type": "code",
   "execution_count": 159,
   "id": "8ac29e13",
   "metadata": {},
   "outputs": [
    {
     "ename": "TypeError",
     "evalue": "'str' object does not support item assignment",
     "output_type": "error",
     "traceback": [
      "\u001b[0;31m---------------------------------------------------------------------------\u001b[0m",
      "\u001b[0;31mTypeError\u001b[0m                                 Traceback (most recent call last)",
      "Input \u001b[0;32mIn [159]\u001b[0m, in \u001b[0;36m<cell line: 1>\u001b[0;34m()\u001b[0m\n\u001b[0;32m----> 1\u001b[0m s[\u001b[38;5;241m0\u001b[39m] \u001b[38;5;241m=\u001b[39m \u001b[38;5;124m\"\u001b[39m\u001b[38;5;124mx\u001b[39m\u001b[38;5;124m\"\u001b[39m\n",
      "\u001b[0;31mTypeError\u001b[0m: 'str' object does not support item assignment"
     ]
    }
   ],
   "source": [
    "s[0] = \"x\""
   ]
  },
  {
   "cell_type": "code",
   "execution_count": 160,
   "id": "6512df7d",
   "metadata": {},
   "outputs": [],
   "source": [
    "l = [\"gbjn\", 68787, True, 899.657, \"vhghgj\", 56+7j]"
   ]
  },
  {
   "cell_type": "code",
   "execution_count": 161,
   "id": "4e8b7f89",
   "metadata": {},
   "outputs": [],
   "source": [
    "l[0] = \"sud\""
   ]
  },
  {
   "cell_type": "code",
   "execution_count": 162,
   "id": "594c3714",
   "metadata": {},
   "outputs": [
    {
     "data": {
      "text/plain": [
       "['sud', 68787, True, 899.657, 'vhghgj', (56+7j)]"
      ]
     },
     "execution_count": 162,
     "metadata": {},
     "output_type": "execute_result"
    }
   ],
   "source": [
    "l"
   ]
  },
  {
   "cell_type": "code",
   "execution_count": 163,
   "id": "6edd1d43",
   "metadata": {},
   "outputs": [],
   "source": [
    "s = \"sudh\" + \"kumar\" "
   ]
  },
  {
   "cell_type": "code",
   "execution_count": 164,
   "id": "c450413d",
   "metadata": {},
   "outputs": [
    {
     "data": {
      "text/plain": [
       "'sudhkumar'"
      ]
     },
     "execution_count": 164,
     "metadata": {},
     "output_type": "execute_result"
    }
   ],
   "source": [
    "s\n"
   ]
  },
  {
   "cell_type": "code",
   "execution_count": 165,
   "id": "9f776a70",
   "metadata": {},
   "outputs": [
    {
     "ename": "TypeError",
     "evalue": "can only concatenate str (not \"int\") to str",
     "output_type": "error",
     "traceback": [
      "\u001b[0;31m---------------------------------------------------------------------------\u001b[0m",
      "\u001b[0;31mTypeError\u001b[0m                                 Traceback (most recent call last)",
      "Input \u001b[0;32mIn [165]\u001b[0m, in \u001b[0;36m<cell line: 1>\u001b[0;34m()\u001b[0m\n\u001b[0;32m----> 1\u001b[0m \u001b[38;5;124;43m\"\u001b[39;49m\u001b[38;5;124;43msudh\u001b[39;49m\u001b[38;5;124;43m\"\u001b[39;49m\u001b[43m \u001b[49m\u001b[38;5;241;43m+\u001b[39;49m\u001b[43m \u001b[49m\u001b[38;5;241;43m3\u001b[39;49m\n",
      "\u001b[0;31mTypeError\u001b[0m: can only concatenate str (not \"int\") to str"
     ]
    }
   ],
   "source": [
    "\"sudh\" + 3"
   ]
  },
  {
   "cell_type": "code",
   "execution_count": 166,
   "id": "6af37dab",
   "metadata": {},
   "outputs": [
    {
     "data": {
      "text/plain": [
       "'sudh3'"
      ]
     },
     "execution_count": 166,
     "metadata": {},
     "output_type": "execute_result"
    }
   ],
   "source": [
    "\"sudh\" + \"3\""
   ]
  },
  {
   "cell_type": "code",
   "execution_count": 167,
   "id": "eb609c4a",
   "metadata": {},
   "outputs": [
    {
     "data": {
      "text/plain": [
       "'sudh kumar '"
      ]
     },
     "execution_count": 167,
     "metadata": {},
     "output_type": "execute_result"
    }
   ],
   "source": [
    "'sudh' + \" kumar \""
   ]
  },
  {
   "cell_type": "code",
   "execution_count": 168,
   "id": "282c1ef0",
   "metadata": {},
   "outputs": [
    {
     "data": {
      "text/plain": [
       "'sudh3'"
      ]
     },
     "execution_count": 168,
     "metadata": {},
     "output_type": "execute_result"
    }
   ],
   "source": [
    "\"sudh\" + str(3)"
   ]
  },
  {
   "cell_type": "code",
   "execution_count": 169,
   "id": "2f6078f4",
   "metadata": {},
   "outputs": [
    {
     "ename": "TypeError",
     "evalue": "can only concatenate str (not \"list\") to str",
     "output_type": "error",
     "traceback": [
      "\u001b[0;31m---------------------------------------------------------------------------\u001b[0m",
      "\u001b[0;31mTypeError\u001b[0m                                 Traceback (most recent call last)",
      "Input \u001b[0;32mIn [169]\u001b[0m, in \u001b[0;36m<cell line: 1>\u001b[0;34m()\u001b[0m\n\u001b[0;32m----> 1\u001b[0m \u001b[38;5;124;43m\"\u001b[39;49m\u001b[38;5;124;43msudh\u001b[39;49m\u001b[38;5;124;43m\"\u001b[39;49m\u001b[43m \u001b[49m\u001b[38;5;241;43m+\u001b[39;49m\u001b[43m \u001b[49m\u001b[43m[\u001b[49m\u001b[38;5;241;43m345\u001b[39;49m\u001b[43m,\u001b[49m\u001b[43m \u001b[49m\u001b[38;5;124;43m\"\u001b[39;49m\u001b[38;5;124;43mkumar\u001b[39;49m\u001b[38;5;124;43m\"\u001b[39;49m\u001b[43m,\u001b[49m\u001b[43m \u001b[49m\u001b[38;5;241;43m7\u001b[39;49m\u001b[43m,\u001b[49m\u001b[43m \u001b[49m\u001b[38;5;241;43m8\u001b[39;49m\u001b[43m,\u001b[49m\u001b[43m \u001b[49m\u001b[38;5;241;43m90.65\u001b[39;49m\u001b[43m]\u001b[49m\n",
      "\u001b[0;31mTypeError\u001b[0m: can only concatenate str (not \"list\") to str"
     ]
    }
   ],
   "source": [
    "\"sudh\" + [345, \"kumar\", 7, 8, 90.65]"
   ]
  },
  {
   "cell_type": "code",
   "execution_count": 184,
   "id": "893d5d6d",
   "metadata": {},
   "outputs": [
    {
     "data": {
      "text/plain": [
       "'BilalBilalBilalBilalBilalBilal'"
      ]
     },
     "execution_count": 184,
     "metadata": {},
     "output_type": "execute_result"
    }
   ],
   "source": [
    "\"Bilal\" * 6"
   ]
  },
  {
   "cell_type": "code",
   "execution_count": 185,
   "id": "188a9ee1",
   "metadata": {},
   "outputs": [
    {
     "data": {
      "text/plain": [
       "'Bilal Bilal Bilal Bilal Bilal Bilal '"
      ]
     },
     "execution_count": 185,
     "metadata": {},
     "output_type": "execute_result"
    }
   ],
   "source": [
    "\"Bilal \" * 6"
   ]
  },
  {
   "cell_type": "code",
   "execution_count": 186,
   "id": "c7ab3927",
   "metadata": {},
   "outputs": [],
   "source": [
    "s = \"my name is\""
   ]
  },
  {
   "cell_type": "code",
   "execution_count": 187,
   "id": "c9cbc13b",
   "metadata": {},
   "outputs": [
    {
     "data": {
      "text/plain": [
       "'my name is'"
      ]
     },
     "execution_count": 187,
     "metadata": {},
     "output_type": "execute_result"
    }
   ],
   "source": [
    "s"
   ]
  },
  {
   "cell_type": "code",
   "execution_count": 188,
   "id": "3e736974",
   "metadata": {},
   "outputs": [
    {
     "data": {
      "text/plain": [
       "0"
      ]
     },
     "execution_count": 188,
     "metadata": {},
     "output_type": "execute_result"
    }
   ],
   "source": [
    "s.find('m')"
   ]
  },
  {
   "cell_type": "code",
   "execution_count": 189,
   "id": "f84e5865",
   "metadata": {},
   "outputs": [
    {
     "data": {
      "text/plain": [
       "-1"
      ]
     },
     "execution_count": 189,
     "metadata": {},
     "output_type": "execute_result"
    }
   ],
   "source": [
    "s.find(\"hdjdj\")"
   ]
  },
  {
   "cell_type": "code",
   "execution_count": 190,
   "id": "bab8c869",
   "metadata": {},
   "outputs": [
    {
     "ename": "SyntaxError",
     "evalue": "invalid syntax (618737589.py, line 1)",
     "output_type": "error",
     "traceback": [
      "\u001b[0;36m  Input \u001b[0;32mIn [190]\u001b[0;36m\u001b[0m\n\u001b[0;31m    find location of 'name' in s\u001b[0m\n\u001b[0m         ^\u001b[0m\n\u001b[0;31mSyntaxError\u001b[0m\u001b[0;31m:\u001b[0m invalid syntax\n"
     ]
    }
   ],
   "source": [
    "find location of 'name' in s"
   ]
  },
  {
   "cell_type": "code",
   "execution_count": 191,
   "id": "ad8ed47a",
   "metadata": {},
   "outputs": [
    {
     "ename": "TypeError",
     "evalue": "must be str, not int",
     "output_type": "error",
     "traceback": [
      "\u001b[0;31m---------------------------------------------------------------------------\u001b[0m",
      "\u001b[0;31mTypeError\u001b[0m                                 Traceback (most recent call last)",
      "Input \u001b[0;32mIn [191]\u001b[0m, in \u001b[0;36m<cell line: 1>\u001b[0;34m()\u001b[0m\n\u001b[0;32m----> 1\u001b[0m \u001b[43ms\u001b[49m\u001b[38;5;241;43m.\u001b[39;49m\u001b[43mfind\u001b[49m\u001b[43m(\u001b[49m\u001b[38;5;241;43m3\u001b[39;49m\u001b[43m,\u001b[49m\u001b[38;5;241;43m6\u001b[39;49m\u001b[43m)\u001b[49m\n",
      "\u001b[0;31mTypeError\u001b[0m: must be str, not int"
     ]
    }
   ],
   "source": [
    "s.find(3,6)"
   ]
  },
  {
   "cell_type": "code",
   "execution_count": 192,
   "id": "b58d6a2f",
   "metadata": {},
   "outputs": [
    {
     "ename": "TypeError",
     "evalue": "'str' object is not callable",
     "output_type": "error",
     "traceback": [
      "\u001b[0;31m---------------------------------------------------------------------------\u001b[0m",
      "\u001b[0;31mTypeError\u001b[0m                                 Traceback (most recent call last)",
      "Input \u001b[0;32mIn [192]\u001b[0m, in \u001b[0;36m<cell line: 1>\u001b[0;34m()\u001b[0m\n\u001b[0;32m----> 1\u001b[0m \u001b[43ms\u001b[49m\u001b[43m(\u001b[49m\u001b[38;5;241;43m3\u001b[39;49m\u001b[43m,\u001b[49m\u001b[38;5;241;43m6\u001b[39;49m\u001b[43m)\u001b[49m\n",
      "\u001b[0;31mTypeError\u001b[0m: 'str' object is not callable"
     ]
    }
   ],
   "source": [
    "s(3,6)"
   ]
  },
  {
   "cell_type": "code",
   "execution_count": 193,
   "id": "540cea78",
   "metadata": {},
   "outputs": [
    {
     "ename": "TypeError",
     "evalue": "'str' object is not callable",
     "output_type": "error",
     "traceback": [
      "\u001b[0;31m---------------------------------------------------------------------------\u001b[0m",
      "\u001b[0;31mTypeError\u001b[0m                                 Traceback (most recent call last)",
      "Input \u001b[0;32mIn [193]\u001b[0m, in \u001b[0;36m<cell line: 1>\u001b[0;34m()\u001b[0m\n\u001b[0;32m----> 1\u001b[0m \u001b[43ms\u001b[49m\u001b[43m(\u001b[49m\u001b[38;5;241;43m3\u001b[39;49m\u001b[43m)\u001b[49m\n",
      "\u001b[0;31mTypeError\u001b[0m: 'str' object is not callable"
     ]
    }
   ],
   "source": [
    "s(3)"
   ]
  },
  {
   "cell_type": "code",
   "execution_count": 194,
   "id": "c20a0702",
   "metadata": {},
   "outputs": [
    {
     "data": {
      "text/plain": [
       "'n'"
      ]
     },
     "execution_count": 194,
     "metadata": {},
     "output_type": "execute_result"
    }
   ],
   "source": [
    "s[3]"
   ]
  },
  {
   "cell_type": "code",
   "execution_count": 195,
   "id": "b0a25118",
   "metadata": {},
   "outputs": [
    {
     "data": {
      "text/plain": [
       "'nam'"
      ]
     },
     "execution_count": 195,
     "metadata": {},
     "output_type": "execute_result"
    }
   ],
   "source": [
    "s[3:6]"
   ]
  },
  {
   "cell_type": "code",
   "execution_count": 196,
   "id": "3cb3015d",
   "metadata": {},
   "outputs": [
    {
     "data": {
      "text/plain": [
       "'name'"
      ]
     },
     "execution_count": 196,
     "metadata": {},
     "output_type": "execute_result"
    }
   ],
   "source": [
    "s[3:7]"
   ]
  },
  {
   "cell_type": "code",
   "execution_count": 197,
   "id": "da33086d",
   "metadata": {},
   "outputs": [],
   "source": [
    "s = \"the name of instructor 'sudh', the name of org ineuron\""
   ]
  },
  {
   "cell_type": "code",
   "execution_count": 198,
   "id": "f63ffb21",
   "metadata": {},
   "outputs": [
    {
     "data": {
      "text/plain": [
       "\"the name of instructor 'sudh', the name of org ineuron\""
      ]
     },
     "execution_count": 198,
     "metadata": {},
     "output_type": "execute_result"
    }
   ],
   "source": [
    "s"
   ]
  },
  {
   "cell_type": "code",
   "execution_count": 199,
   "id": "dac7a225",
   "metadata": {},
   "outputs": [
    {
     "ename": "SyntaxError",
     "evalue": "invalid syntax (2531094717.py, line 1)",
     "output_type": "error",
     "traceback": [
      "\u001b[0;36m  Input \u001b[0;32mIn [199]\u001b[0;36m\u001b[0m\n\u001b[0;31m    find location of first 'name' in s\u001b[0m\n\u001b[0m         ^\u001b[0m\n\u001b[0;31mSyntaxError\u001b[0m\u001b[0;31m:\u001b[0m invalid syntax\n"
     ]
    }
   ],
   "source": [
    "find location of first 'name' in s"
   ]
  },
  {
   "cell_type": "code",
   "execution_count": 200,
   "id": "3194fb6d",
   "metadata": {},
   "outputs": [
    {
     "data": {
      "text/plain": [
       "'name'"
      ]
     },
     "execution_count": 200,
     "metadata": {},
     "output_type": "execute_result"
    }
   ],
   "source": [
    "s[4:8]"
   ]
  },
  {
   "cell_type": "code",
   "execution_count": 201,
   "id": "abb498e6",
   "metadata": {},
   "outputs": [
    {
     "ename": "TypeError",
     "evalue": "'str' object cannot be interpreted as an integer",
     "output_type": "error",
     "traceback": [
      "\u001b[0;31m---------------------------------------------------------------------------\u001b[0m",
      "\u001b[0;31mTypeError\u001b[0m                                 Traceback (most recent call last)",
      "Input \u001b[0;32mIn [201]\u001b[0m, in \u001b[0;36m<cell line: 1>\u001b[0;34m()\u001b[0m\n\u001b[0;32m----> 1\u001b[0m \u001b[38;5;28;01mfor\u001b[39;00m i \u001b[38;5;129;01min\u001b[39;00m \u001b[38;5;28;43mrange\u001b[39;49m\u001b[43m(\u001b[49m\u001b[43ms\u001b[49m\u001b[43m)\u001b[49m:\n\u001b[1;32m      2\u001b[0m     \u001b[38;5;28mprint\u001b[39m(s[\u001b[38;5;241m4\u001b[39m:\u001b[38;5;241m8\u001b[39m])\n",
      "\u001b[0;31mTypeError\u001b[0m: 'str' object cannot be interpreted as an integer"
     ]
    }
   ],
   "source": [
    "for i in range(s):\n",
    "    print(s[4:8])"
   ]
  },
  {
   "cell_type": "code",
   "execution_count": 202,
   "id": "6c1f3a46",
   "metadata": {},
   "outputs": [
    {
     "ename": "TypeError",
     "evalue": "'int' object is not callable",
     "output_type": "error",
     "traceback": [
      "\u001b[0;31m---------------------------------------------------------------------------\u001b[0m",
      "\u001b[0;31mTypeError\u001b[0m                                 Traceback (most recent call last)",
      "Input \u001b[0;32mIn [202]\u001b[0m, in \u001b[0;36m<cell line: 1>\u001b[0;34m()\u001b[0m\n\u001b[0;32m----> 1\u001b[0m s\u001b[38;5;241m.\u001b[39mfind(\u001b[43mi\u001b[49m\u001b[43m(\u001b[49m\u001b[38;5;124;43m\"\u001b[39;49m\u001b[38;5;124;43mname\u001b[39;49m\u001b[38;5;124;43m\"\u001b[39;49m\u001b[43m)\u001b[49m)\n",
      "\u001b[0;31mTypeError\u001b[0m: 'int' object is not callable"
     ]
    }
   ],
   "source": [
    "s.find(i(\"name\"))"
   ]
  },
  {
   "cell_type": "code",
   "execution_count": 203,
   "id": "11e2f2ad",
   "metadata": {},
   "outputs": [
    {
     "name": "stdout",
     "output_type": "stream",
     "text": [
      "4\n",
      "5\n",
      "6\n",
      "7\n"
     ]
    }
   ],
   "source": [
    "a = s.find(\"name\")\n",
    "for i in range(len(\"name\")):\n",
    "    print(a+i)"
   ]
  },
  {
   "cell_type": "code",
   "execution_count": 204,
   "id": "a529f8a6",
   "metadata": {},
   "outputs": [
    {
     "data": {
      "text/plain": [
       "3"
      ]
     },
     "execution_count": 204,
     "metadata": {},
     "output_type": "execute_result"
    }
   ],
   "source": [
    "s.count(\"h\")"
   ]
  },
  {
   "cell_type": "code",
   "execution_count": 205,
   "id": "0bc78154",
   "metadata": {},
   "outputs": [
    {
     "data": {
      "text/plain": [
       "2"
      ]
     },
     "execution_count": 205,
     "metadata": {},
     "output_type": "execute_result"
    }
   ],
   "source": [
    "s.count(\"the\")"
   ]
  },
  {
   "cell_type": "code",
   "execution_count": 206,
   "id": "8a285143",
   "metadata": {},
   "outputs": [],
   "source": [
    "s = \"the name of instructor 'sudh', the Name of org ineuron\""
   ]
  },
  {
   "cell_type": "code",
   "execution_count": 207,
   "id": "32d2c1a5",
   "metadata": {},
   "outputs": [
    {
     "data": {
      "text/plain": [
       "\"the name of instructor 'sudh', the Name of org ineuron\""
      ]
     },
     "execution_count": 207,
     "metadata": {},
     "output_type": "execute_result"
    }
   ],
   "source": [
    "s"
   ]
  },
  {
   "cell_type": "code",
   "execution_count": 208,
   "id": "8ac98aaa",
   "metadata": {},
   "outputs": [
    {
     "data": {
      "text/plain": [
       "1"
      ]
     },
     "execution_count": 208,
     "metadata": {},
     "output_type": "execute_result"
    }
   ],
   "source": [
    "s.count(\"name\")"
   ]
  },
  {
   "cell_type": "code",
   "execution_count": 209,
   "id": "94c3be8e",
   "metadata": {},
   "outputs": [],
   "source": [
    "#as it is a case sensitive so it will give count only for name, not for Name"
   ]
  },
  {
   "cell_type": "code",
   "execution_count": 210,
   "id": "dc3b97c0",
   "metadata": {},
   "outputs": [
    {
     "data": {
      "text/plain": [
       "['the',\n",
       " 'name',\n",
       " 'of',\n",
       " 'instructor',\n",
       " \"'sudh',\",\n",
       " 'the',\n",
       " 'Name',\n",
       " 'of',\n",
       " 'org',\n",
       " 'ineuron']"
      ]
     },
     "execution_count": 210,
     "metadata": {},
     "output_type": "execute_result"
    }
   ],
   "source": [
    "s.split()"
   ]
  },
  {
   "cell_type": "code",
   "execution_count": 211,
   "id": "930a0279",
   "metadata": {},
   "outputs": [
    {
     "data": {
      "text/plain": [
       "[\"the name of instructor 'sudh'\", ' the Name of org ineuron']"
      ]
     },
     "execution_count": 211,
     "metadata": {},
     "output_type": "execute_result"
    }
   ],
   "source": [
    "s.split(\",\")"
   ]
  },
  {
   "cell_type": "code",
   "execution_count": 212,
   "id": "b4c81c34",
   "metadata": {},
   "outputs": [],
   "source": [
    "#wherever there is a comma it will split from there"
   ]
  },
  {
   "cell_type": "code",
   "execution_count": 213,
   "id": "23bd4b58",
   "metadata": {},
   "outputs": [
    {
     "data": {
      "text/plain": [
       "['the ', 'ame of i', \"structor 'sudh', the Name of org i\", 'euro', '']"
      ]
     },
     "execution_count": 213,
     "metadata": {},
     "output_type": "execute_result"
    }
   ],
   "source": [
    "s.split(\"n\")"
   ]
  },
  {
   "cell_type": "code",
   "execution_count": 214,
   "id": "069c366e",
   "metadata": {},
   "outputs": [],
   "source": [
    "#wherever there is a n it will split there"
   ]
  },
  {
   "cell_type": "code",
   "execution_count": 215,
   "id": "1e7a6dee",
   "metadata": {},
   "outputs": [
    {
     "data": {
      "text/plain": [
       "['the ', \"me of instructor 'sudh', the Name of org ineuron\"]"
      ]
     },
     "execution_count": 215,
     "metadata": {},
     "output_type": "execute_result"
    }
   ],
   "source": [
    "s.split(\"na\")"
   ]
  },
  {
   "cell_type": "code",
   "execution_count": 216,
   "id": "4b369296",
   "metadata": {},
   "outputs": [],
   "source": [
    "#wherever there is a n it will split there"
   ]
  },
  {
   "cell_type": "code",
   "execution_count": 217,
   "id": "2b4a6464",
   "metadata": {},
   "outputs": [
    {
     "data": {
      "text/plain": [
       "list"
      ]
     },
     "execution_count": 217,
     "metadata": {},
     "output_type": "execute_result"
    }
   ],
   "source": [
    "type(s.split(\"na\"))"
   ]
  },
  {
   "cell_type": "code",
   "execution_count": 218,
   "id": "43683ade",
   "metadata": {},
   "outputs": [
    {
     "data": {
      "text/plain": [
       "\"THE NAME OF INSTRUCTOR 'SUDH', THE NAME OF ORG INEURON\""
      ]
     },
     "execution_count": 218,
     "metadata": {},
     "output_type": "execute_result"
    }
   ],
   "source": [
    "s.upper()"
   ]
  },
  {
   "cell_type": "code",
   "execution_count": 219,
   "id": "12f20aee",
   "metadata": {},
   "outputs": [
    {
     "data": {
      "text/plain": [
       "\"the name of instructor 'sudh', the name of org ineuron\""
      ]
     },
     "execution_count": 219,
     "metadata": {},
     "output_type": "execute_result"
    }
   ],
   "source": [
    "s.lower()"
   ]
  },
  {
   "cell_type": "code",
   "execution_count": 220,
   "id": "05193f5c",
   "metadata": {},
   "outputs": [
    {
     "data": {
      "text/plain": [
       "\"THE NAME OF INSTRUCTOR 'SUDH', THE nAME OF ORG INEURON\""
      ]
     },
     "execution_count": 220,
     "metadata": {},
     "output_type": "execute_result"
    }
   ],
   "source": [
    "s.swapcase()"
   ]
  },
  {
   "cell_type": "code",
   "execution_count": 221,
   "id": "956f8276",
   "metadata": {},
   "outputs": [],
   "source": [
    "#swapcase convert lower case character into upper case character"
   ]
  },
  {
   "cell_type": "code",
   "execution_count": 222,
   "id": "8a42e9cc",
   "metadata": {},
   "outputs": [
    {
     "data": {
      "text/plain": [
       "\"tshses snsasmses sosfs sisnssstsrsuscstsosrs s'sssusdshs's,s stshses sNsasmses sosfs sosrsgs sisnsesusrsosn\""
      ]
     },
     "execution_count": 222,
     "metadata": {},
     "output_type": "execute_result"
    }
   ],
   "source": [
    "\"s\".join(s)"
   ]
  },
  {
   "cell_type": "code",
   "execution_count": 223,
   "id": "c20a5a6a",
   "metadata": {},
   "outputs": [
    {
     "data": {
      "text/plain": [
       "\"t h e   n a m e   o f   i n s t r u c t o r   ' s u d h ' ,   t h e   N a m e   o f   o r g   i n e u r o n\""
      ]
     },
     "execution_count": 223,
     "metadata": {},
     "output_type": "execute_result"
    }
   ],
   "source": [
    "\" \".join(s)"
   ]
  },
  {
   "cell_type": "code",
   "execution_count": 224,
   "id": "f1ecce61",
   "metadata": {},
   "outputs": [
    {
     "data": {
      "text/plain": [
       "<reversed at 0x7fa1528961f0>"
      ]
     },
     "execution_count": 224,
     "metadata": {},
     "output_type": "execute_result"
    }
   ],
   "source": [
    "reversed(s)"
   ]
  },
  {
   "cell_type": "code",
   "execution_count": 225,
   "id": "3e9feec8",
   "metadata": {},
   "outputs": [],
   "source": [
    "#reversed(s) by this we cannot get proper string, so we write it with list() i.e. list(reversed(s))"
   ]
  },
  {
   "cell_type": "code",
   "execution_count": 226,
   "id": "930b4ca6",
   "metadata": {},
   "outputs": [
    {
     "data": {
      "text/plain": [
       "['n',\n",
       " 'o',\n",
       " 'r',\n",
       " 'u',\n",
       " 'e',\n",
       " 'n',\n",
       " 'i',\n",
       " ' ',\n",
       " 'g',\n",
       " 'r',\n",
       " 'o',\n",
       " ' ',\n",
       " 'f',\n",
       " 'o',\n",
       " ' ',\n",
       " 'e',\n",
       " 'm',\n",
       " 'a',\n",
       " 'N',\n",
       " ' ',\n",
       " 'e',\n",
       " 'h',\n",
       " 't',\n",
       " ' ',\n",
       " ',',\n",
       " \"'\",\n",
       " 'h',\n",
       " 'd',\n",
       " 'u',\n",
       " 's',\n",
       " \"'\",\n",
       " ' ',\n",
       " 'r',\n",
       " 'o',\n",
       " 't',\n",
       " 'c',\n",
       " 'u',\n",
       " 'r',\n",
       " 't',\n",
       " 's',\n",
       " 'n',\n",
       " 'i',\n",
       " ' ',\n",
       " 'f',\n",
       " 'o',\n",
       " ' ',\n",
       " 'e',\n",
       " 'm',\n",
       " 'a',\n",
       " 'n',\n",
       " ' ',\n",
       " 'e',\n",
       " 'h',\n",
       " 't']"
      ]
     },
     "execution_count": 226,
     "metadata": {},
     "output_type": "execute_result"
    }
   ],
   "source": [
    "list(reversed(s))"
   ]
  },
  {
   "cell_type": "code",
   "execution_count": 227,
   "id": "cc301763",
   "metadata": {},
   "outputs": [
    {
     "name": "stdout",
     "output_type": "stream",
     "text": [
      "n\n",
      "o\n",
      "r\n",
      "u\n",
      "e\n",
      "n\n",
      "i\n",
      " \n",
      "g\n",
      "r\n",
      "o\n",
      " \n",
      "f\n",
      "o\n",
      " \n",
      "e\n",
      "m\n",
      "a\n",
      "N\n",
      " \n",
      "e\n",
      "h\n",
      "t\n",
      " \n",
      ",\n",
      "'\n",
      "h\n",
      "d\n",
      "u\n",
      "s\n",
      "'\n",
      " \n",
      "r\n",
      "o\n",
      "t\n",
      "c\n",
      "u\n",
      "r\n",
      "t\n",
      "s\n",
      "n\n",
      "i\n",
      " \n",
      "f\n",
      "o\n",
      " \n",
      "e\n",
      "m\n",
      "a\n",
      "n\n",
      " \n",
      "e\n",
      "h\n",
      "t\n"
     ]
    }
   ],
   "source": [
    "for i in reversed(s):\n",
    "    print(i)"
   ]
  },
  {
   "cell_type": "code",
   "execution_count": 228,
   "id": "08b8b753",
   "metadata": {},
   "outputs": [],
   "source": [
    "s = \" sudh \""
   ]
  },
  {
   "cell_type": "code",
   "execution_count": 229,
   "id": "dbd29805",
   "metadata": {},
   "outputs": [
    {
     "data": {
      "text/plain": [
       "' sudh '"
      ]
     },
     "execution_count": 229,
     "metadata": {},
     "output_type": "execute_result"
    }
   ],
   "source": [
    "s"
   ]
  },
  {
   "cell_type": "code",
   "execution_count": 230,
   "id": "bab3376d",
   "metadata": {},
   "outputs": [
    {
     "data": {
      "text/plain": [
       "'sudh'"
      ]
     },
     "execution_count": 230,
     "metadata": {},
     "output_type": "execute_result"
    }
   ],
   "source": [
    "s.strip()"
   ]
  },
  {
   "cell_type": "code",
   "execution_count": 231,
   "id": "68e1d213",
   "metadata": {},
   "outputs": [
    {
     "data": {
      "text/plain": [
       "'sudh '"
      ]
     },
     "execution_count": 231,
     "metadata": {},
     "output_type": "execute_result"
    }
   ],
   "source": [
    "s.lstrip()"
   ]
  },
  {
   "cell_type": "code",
   "execution_count": 232,
   "id": "39f791da",
   "metadata": {},
   "outputs": [
    {
     "data": {
      "text/plain": [
       "' sudh'"
      ]
     },
     "execution_count": 232,
     "metadata": {},
     "output_type": "execute_result"
    }
   ],
   "source": [
    "s.rstrip()"
   ]
  },
  {
   "cell_type": "code",
   "execution_count": 233,
   "id": "96f2d94b",
   "metadata": {},
   "outputs": [],
   "source": [
    "s = \"greeting from ineuron\""
   ]
  },
  {
   "cell_type": "code",
   "execution_count": 234,
   "id": "d0ca18d6",
   "metadata": {},
   "outputs": [
    {
     "data": {
      "text/plain": [
       "'greeting from ineuron'"
      ]
     },
     "execution_count": 234,
     "metadata": {},
     "output_type": "execute_result"
    }
   ],
   "source": [
    "s"
   ]
  },
  {
   "cell_type": "code",
   "execution_count": 235,
   "id": "c3d700ce",
   "metadata": {},
   "outputs": [
    {
     "data": {
      "text/plain": [
       "'sreetins from ineuron'"
      ]
     },
     "execution_count": 235,
     "metadata": {},
     "output_type": "execute_result"
    }
   ],
   "source": [
    "s.replace(\"g\", \"s\")"
   ]
  },
  {
   "cell_type": "code",
   "execution_count": 236,
   "id": "e0c239fc",
   "metadata": {},
   "outputs": [
    {
     "data": {
      "text/plain": [
       "'sdfreetinsdf from ineuron'"
      ]
     },
     "execution_count": 236,
     "metadata": {},
     "output_type": "execute_result"
    }
   ],
   "source": [
    "s.replace(\"g\", \"sdf\")"
   ]
  },
  {
   "cell_type": "code",
   "execution_count": 237,
   "id": "7249805c",
   "metadata": {},
   "outputs": [
    {
     "data": {
      "text/plain": [
       "'seeting from ineuron'"
      ]
     },
     "execution_count": 237,
     "metadata": {},
     "output_type": "execute_result"
    }
   ],
   "source": [
    "s.replace(\"gr\", \"s\")"
   ]
  },
  {
   "cell_type": "code",
   "execution_count": 238,
   "id": "f4d9a5a3",
   "metadata": {},
   "outputs": [
    {
     "data": {
      "text/plain": [
       "'greeting from ineuron'"
      ]
     },
     "execution_count": 238,
     "metadata": {},
     "output_type": "execute_result"
    }
   ],
   "source": [
    "s"
   ]
  },
  {
   "cell_type": "code",
   "execution_count": 239,
   "id": "3e160528",
   "metadata": {},
   "outputs": [
    {
     "data": {
      "text/plain": [
       "'kumar from ineuron'"
      ]
     },
     "execution_count": 239,
     "metadata": {},
     "output_type": "execute_result"
    }
   ],
   "source": [
    "s.replace(\"greeting\", \"kumar\")"
   ]
  },
  {
   "cell_type": "code",
   "execution_count": 240,
   "id": "d5493285",
   "metadata": {},
   "outputs": [
    {
     "ename": "TypeError",
     "evalue": "'str' object does not support item assignment",
     "output_type": "error",
     "traceback": [
      "\u001b[0;31m---------------------------------------------------------------------------\u001b[0m",
      "\u001b[0;31mTypeError\u001b[0m                                 Traceback (most recent call last)",
      "Input \u001b[0;32mIn [240]\u001b[0m, in \u001b[0;36m<cell line: 1>\u001b[0;34m()\u001b[0m\n\u001b[0;32m----> 1\u001b[0m s[\u001b[38;5;241m1\u001b[39m] \u001b[38;5;241m=\u001b[39m \u001b[38;5;124m\"\u001b[39m\u001b[38;5;124mmarku\u001b[39m\u001b[38;5;124m\"\u001b[39m\n",
      "\u001b[0;31mTypeError\u001b[0m: 'str' object does not support item assignment"
     ]
    }
   ],
   "source": [
    "s[1] = \"marku\""
   ]
  },
  {
   "cell_type": "code",
   "execution_count": 241,
   "id": "8304a4ba",
   "metadata": {},
   "outputs": [],
   "source": [
    "#immutability says that in the same location if I am able to relocate/modify it, then it is a mutable object, if \n",
    "#I am not able to do it, then it is a immutable object. String is a immutable object. "
   ]
  },
  {
   "cell_type": "code",
   "execution_count": 242,
   "id": "5681da29",
   "metadata": {},
   "outputs": [
    {
     "data": {
      "text/plain": [
       "'greeting from ineuron'"
      ]
     },
     "execution_count": 242,
     "metadata": {},
     "output_type": "execute_result"
    }
   ],
   "source": [
    "s.center(20,\"b\")"
   ]
  },
  {
   "cell_type": "code",
   "execution_count": 243,
   "id": "db2c7eba",
   "metadata": {},
   "outputs": [],
   "source": [
    "s = \"sudh\""
   ]
  },
  {
   "cell_type": "code",
   "execution_count": 244,
   "id": "136e3eff",
   "metadata": {},
   "outputs": [
    {
     "data": {
      "text/plain": [
       "'bbbbbbbbsudhbbbbbbbb'"
      ]
     },
     "execution_count": 244,
     "metadata": {},
     "output_type": "execute_result"
    }
   ],
   "source": [
    "s.center(20, \"b\")"
   ]
  },
  {
   "cell_type": "code",
   "execution_count": 245,
   "id": "25caddb7",
   "metadata": {},
   "outputs": [
    {
     "data": {
      "text/plain": [
       "'        sudh        '"
      ]
     },
     "execution_count": 245,
     "metadata": {},
     "output_type": "execute_result"
    }
   ],
   "source": [
    "s.center(20, \" \")"
   ]
  },
  {
   "cell_type": "code",
   "execution_count": 246,
   "id": "581af0e4",
   "metadata": {},
   "outputs": [
    {
     "ename": "TypeError",
     "evalue": "The fill character must be exactly one character long",
     "output_type": "error",
     "traceback": [
      "\u001b[0;31m---------------------------------------------------------------------------\u001b[0m",
      "\u001b[0;31mTypeError\u001b[0m                                 Traceback (most recent call last)",
      "Input \u001b[0;32mIn [246]\u001b[0m, in \u001b[0;36m<cell line: 1>\u001b[0;34m()\u001b[0m\n\u001b[0;32m----> 1\u001b[0m \u001b[43ms\u001b[49m\u001b[38;5;241;43m.\u001b[39;49m\u001b[43mcenter\u001b[49m\u001b[43m(\u001b[49m\u001b[38;5;241;43m20\u001b[39;49m\u001b[43m,\u001b[49m\u001b[43m \u001b[49m\u001b[38;5;124;43m\"\u001b[39;49m\u001b[38;5;124;43mty\u001b[39;49m\u001b[38;5;124;43m\"\u001b[39;49m\u001b[43m)\u001b[49m\n",
      "\u001b[0;31mTypeError\u001b[0m: The fill character must be exactly one character long"
     ]
    }
   ],
   "source": [
    "s.center(20, \"ty\")"
   ]
  },
  {
   "cell_type": "code",
   "execution_count": 247,
   "id": "1443e978",
   "metadata": {},
   "outputs": [
    {
     "data": {
      "text/plain": [
       "'******************sudh******************'"
      ]
     },
     "execution_count": 247,
     "metadata": {},
     "output_type": "execute_result"
    }
   ],
   "source": [
    "s.center(40, \"*\")"
   ]
  },
  {
   "cell_type": "code",
   "execution_count": 248,
   "id": "b2c6a529",
   "metadata": {},
   "outputs": [],
   "source": [
    "s = \"sudh\\tku\\tmar\""
   ]
  },
  {
   "cell_type": "code",
   "execution_count": 249,
   "id": "c62d5979",
   "metadata": {},
   "outputs": [
    {
     "data": {
      "text/plain": [
       "'sudh\\tku\\tmar'"
      ]
     },
     "execution_count": 249,
     "metadata": {},
     "output_type": "execute_result"
    }
   ],
   "source": [
    "s"
   ]
  },
  {
   "cell_type": "code",
   "execution_count": 250,
   "id": "709155b5",
   "metadata": {},
   "outputs": [
    {
     "data": {
      "text/plain": [
       "'sudh    ku      mar'"
      ]
     },
     "execution_count": 250,
     "metadata": {},
     "output_type": "execute_result"
    }
   ],
   "source": [
    "s.expandtabs()"
   ]
  },
  {
   "cell_type": "code",
   "execution_count": 251,
   "id": "8ef01aac",
   "metadata": {},
   "outputs": [],
   "source": [
    "a = \"We all are a part of Full Stack\""
   ]
  },
  {
   "cell_type": "code",
   "execution_count": 252,
   "id": "9305a6bc",
   "metadata": {},
   "outputs": [
    {
     "data": {
      "text/plain": [
       "'We all are a part of Full Stack'"
      ]
     },
     "execution_count": 252,
     "metadata": {},
     "output_type": "execute_result"
    }
   ],
   "source": [
    "a"
   ]
  },
  {
   "cell_type": "code",
   "execution_count": 253,
   "id": "dcc11a55",
   "metadata": {},
   "outputs": [
    {
     "data": {
      "text/plain": [
       "'we all are a part of full stack'"
      ]
     },
     "execution_count": 253,
     "metadata": {},
     "output_type": "execute_result"
    }
   ],
   "source": [
    "a.lower()"
   ]
  },
  {
   "cell_type": "code",
   "execution_count": 254,
   "id": "7bf245a2",
   "metadata": {},
   "outputs": [
    {
     "data": {
      "text/plain": [
       "5"
      ]
     },
     "execution_count": 254,
     "metadata": {},
     "output_type": "execute_result"
    }
   ],
   "source": [
    "a.count(\"a\")"
   ]
  },
  {
   "cell_type": "code",
   "execution_count": 255,
   "id": "c15175b1",
   "metadata": {},
   "outputs": [
    {
     "name": "stdout",
     "output_type": "stream",
     "text": [
      "3\n",
      "7\n",
      "11\n",
      "14\n",
      "28\n"
     ]
    }
   ],
   "source": [
    "for i in range(1,31):\n",
    "    if a[i] == \"a\":\n",
    "        print(i)\n",
    "    "
   ]
  },
  {
   "cell_type": "code",
   "execution_count": 256,
   "id": "ca806200",
   "metadata": {},
   "outputs": [
    {
     "data": {
      "text/plain": [
       "'We ineuronll ineuronre ineuron pineuronrt of Full Stineuronck'"
      ]
     },
     "execution_count": 256,
     "metadata": {},
     "output_type": "execute_result"
    }
   ],
   "source": [
    "a.replace(\"a\", \"ineuron\")"
   ]
  },
  {
   "cell_type": "code",
   "execution_count": 257,
   "id": "1fb4fe78",
   "metadata": {},
   "outputs": [
    {
     "data": {
      "text/plain": [
       "['We', 'all', 'are', 'a', 'part', 'of', 'Full', 'Stack']"
      ]
     },
     "execution_count": 257,
     "metadata": {},
     "output_type": "execute_result"
    }
   ],
   "source": [
    "a.split()"
   ]
  },
  {
   "cell_type": "code",
   "execution_count": 258,
   "id": "cfc2871d",
   "metadata": {},
   "outputs": [
    {
     "name": "stdout",
     "output_type": "stream",
     "text": [
      "['We', 'all', 'are', 'a', 'part', 'of', 'Full', 'Stack']\n"
     ]
    }
   ],
   "source": [
    "print(a.split())"
   ]
  },
  {
   "cell_type": "code",
   "execution_count": 259,
   "id": "592b7ba8",
   "metadata": {},
   "outputs": [
    {
     "data": {
      "text/plain": [
       "False"
      ]
     },
     "execution_count": 259,
     "metadata": {},
     "output_type": "execute_result"
    }
   ],
   "source": [
    "a.isupper()"
   ]
  },
  {
   "cell_type": "code",
   "execution_count": 260,
   "id": "4e22cdcd",
   "metadata": {},
   "outputs": [],
   "source": [
    "s = \"    SUDH\""
   ]
  },
  {
   "cell_type": "code",
   "execution_count": 261,
   "id": "7395b5ee",
   "metadata": {},
   "outputs": [
    {
     "data": {
      "text/plain": [
       "True"
      ]
     },
     "execution_count": 261,
     "metadata": {},
     "output_type": "execute_result"
    }
   ],
   "source": [
    "s.isupper()"
   ]
  },
  {
   "cell_type": "code",
   "execution_count": 262,
   "id": "ce412339",
   "metadata": {},
   "outputs": [
    {
     "data": {
      "text/plain": [
       "False"
      ]
     },
     "execution_count": 262,
     "metadata": {},
     "output_type": "execute_result"
    }
   ],
   "source": [
    "s.islower()"
   ]
  },
  {
   "cell_type": "code",
   "execution_count": 263,
   "id": "42c34c6b",
   "metadata": {},
   "outputs": [
    {
     "data": {
      "text/plain": [
       "False"
      ]
     },
     "execution_count": 263,
     "metadata": {},
     "output_type": "execute_result"
    }
   ],
   "source": [
    "s.isspace()"
   ]
  },
  {
   "cell_type": "code",
   "execution_count": 264,
   "id": "c2109958",
   "metadata": {},
   "outputs": [],
   "source": [
    "x = \" \""
   ]
  },
  {
   "cell_type": "code",
   "execution_count": 265,
   "id": "0952861b",
   "metadata": {},
   "outputs": [
    {
     "data": {
      "text/plain": [
       "True"
      ]
     },
     "execution_count": 265,
     "metadata": {},
     "output_type": "execute_result"
    }
   ],
   "source": [
    "x.isspace()"
   ]
  },
  {
   "cell_type": "code",
   "execution_count": 266,
   "id": "ede2acdb",
   "metadata": {},
   "outputs": [
    {
     "data": {
      "text/plain": [
       "False"
      ]
     },
     "execution_count": 266,
     "metadata": {},
     "output_type": "execute_result"
    }
   ],
   "source": [
    "s.isdigit()"
   ]
  },
  {
   "cell_type": "code",
   "execution_count": 267,
   "id": "3fa2e7a3",
   "metadata": {},
   "outputs": [],
   "source": [
    "y = \"65758\""
   ]
  },
  {
   "cell_type": "code",
   "execution_count": 268,
   "id": "3ba64138",
   "metadata": {},
   "outputs": [
    {
     "data": {
      "text/plain": [
       "True"
      ]
     },
     "execution_count": 268,
     "metadata": {},
     "output_type": "execute_result"
    }
   ],
   "source": [
    "y.isdigit()"
   ]
  },
  {
   "cell_type": "code",
   "execution_count": 269,
   "id": "5fed9c55",
   "metadata": {},
   "outputs": [
    {
     "data": {
      "text/plain": [
       "True"
      ]
     },
     "execution_count": 269,
     "metadata": {},
     "output_type": "execute_result"
    }
   ],
   "source": [
    "y.isdecimal()"
   ]
  },
  {
   "cell_type": "code",
   "execution_count": 270,
   "id": "bb93e79a",
   "metadata": {},
   "outputs": [
    {
     "data": {
      "text/plain": [
       "False"
      ]
     },
     "execution_count": 270,
     "metadata": {},
     "output_type": "execute_result"
    }
   ],
   "source": [
    "s.endswith(\"d\")"
   ]
  },
  {
   "cell_type": "code",
   "execution_count": 271,
   "id": "66ac9a05",
   "metadata": {},
   "outputs": [
    {
     "data": {
      "text/plain": [
       "False"
      ]
     },
     "execution_count": 271,
     "metadata": {},
     "output_type": "execute_result"
    }
   ],
   "source": [
    "s.endswith(\"h\")"
   ]
  },
  {
   "cell_type": "code",
   "execution_count": 272,
   "id": "08674f35",
   "metadata": {},
   "outputs": [
    {
     "data": {
      "text/plain": [
       "True"
      ]
     },
     "execution_count": 272,
     "metadata": {},
     "output_type": "execute_result"
    }
   ],
   "source": [
    "s.endswith(\"H\")"
   ]
  },
  {
   "cell_type": "code",
   "execution_count": 273,
   "id": "d3c5c483",
   "metadata": {},
   "outputs": [
    {
     "data": {
      "text/plain": [
       "True"
      ]
     },
     "execution_count": 273,
     "metadata": {},
     "output_type": "execute_result"
    }
   ],
   "source": [
    "s.startswith(\" \")"
   ]
  },
  {
   "cell_type": "code",
   "execution_count": 274,
   "id": "93638c46",
   "metadata": {},
   "outputs": [
    {
     "data": {
      "text/plain": [
       "True"
      ]
     },
     "execution_count": 274,
     "metadata": {},
     "output_type": "execute_result"
    }
   ],
   "source": [
    "y.isalnum()"
   ]
  },
  {
   "cell_type": "code",
   "execution_count": 275,
   "id": "c96196de",
   "metadata": {},
   "outputs": [],
   "source": [
    "#alphanumeric means either one of aplhabet or numeric value"
   ]
  },
  {
   "cell_type": "code",
   "execution_count": 276,
   "id": "b0402386",
   "metadata": {},
   "outputs": [
    {
     "data": {
      "text/plain": [
       "False"
      ]
     },
     "execution_count": 276,
     "metadata": {},
     "output_type": "execute_result"
    }
   ],
   "source": [
    "y.isalpha()"
   ]
  },
  {
   "cell_type": "code",
   "execution_count": 277,
   "id": "f46bcf30",
   "metadata": {},
   "outputs": [
    {
     "data": {
      "text/plain": [
       "True"
      ]
     },
     "execution_count": 277,
     "metadata": {},
     "output_type": "execute_result"
    }
   ],
   "source": [
    "y.isnumeric()"
   ]
  },
  {
   "cell_type": "code",
   "execution_count": 278,
   "id": "24e45a3f",
   "metadata": {},
   "outputs": [],
   "source": [
    "g = \"ert\""
   ]
  },
  {
   "cell_type": "code",
   "execution_count": 279,
   "id": "88c65d1f",
   "metadata": {},
   "outputs": [
    {
     "data": {
      "text/plain": [
       "False"
      ]
     },
     "execution_count": 279,
     "metadata": {},
     "output_type": "execute_result"
    }
   ],
   "source": [
    "g.istitle()"
   ]
  },
  {
   "cell_type": "code",
   "execution_count": 280,
   "id": "d1b44413",
   "metadata": {},
   "outputs": [],
   "source": [
    "h = \"Thj\""
   ]
  },
  {
   "cell_type": "code",
   "execution_count": 281,
   "id": "c9254358",
   "metadata": {},
   "outputs": [
    {
     "data": {
      "text/plain": [
       "True"
      ]
     },
     "execution_count": 281,
     "metadata": {},
     "output_type": "execute_result"
    }
   ],
   "source": [
    "h.istitle()"
   ]
  },
  {
   "cell_type": "code",
   "execution_count": 282,
   "id": "5ee07d84",
   "metadata": {},
   "outputs": [],
   "source": [
    "#title has first letter in caps(uppercase)"
   ]
  },
  {
   "cell_type": "code",
   "execution_count": 283,
   "id": "59d5def1",
   "metadata": {},
   "outputs": [],
   "source": [
    "s = \"this is my full stack class\""
   ]
  },
  {
   "cell_type": "code",
   "execution_count": 284,
   "id": "7cb307a1",
   "metadata": {},
   "outputs": [
    {
     "name": "stdout",
     "output_type": "stream",
     "text": [
      "t\n",
      "h\n",
      "i\n",
      "s\n",
      " \n",
      "i\n",
      "s\n",
      " \n",
      "m\n",
      "y\n",
      " \n",
      "f\n",
      "u\n",
      "l\n",
      "l\n",
      " \n",
      "s\n",
      "t\n",
      "a\n",
      "c\n",
      "k\n",
      " \n",
      "c\n",
      "l\n",
      "a\n",
      "s\n",
      "s\n"
     ]
    }
   ],
   "source": [
    "for i in s:\n",
    "    print(i)"
   ]
  },
  {
   "cell_type": "code",
   "execution_count": 285,
   "id": "8d8b3b0e",
   "metadata": {},
   "outputs": [
    {
     "name": "stdout",
     "output_type": "stream",
     "text": [
      "s\n",
      "s\n",
      "a\n",
      "l\n",
      "c\n",
      " \n",
      "k\n",
      "c\n",
      "a\n",
      "t\n",
      "s\n",
      " \n",
      "l\n",
      "l\n",
      "u\n",
      "f\n",
      " \n",
      "y\n",
      "m\n",
      " \n",
      "s\n",
      "i\n",
      " \n",
      "s\n",
      "i\n",
      "h\n"
     ]
    }
   ],
   "source": [
    "for i in range(1, len(s)):\n",
    "    print(s[-i])"
   ]
  },
  {
   "cell_type": "code",
   "execution_count": 286,
   "id": "89124c0a",
   "metadata": {},
   "outputs": [
    {
     "name": "stdout",
     "output_type": "stream",
     "text": [
      "h\n",
      "d\n",
      "u\n",
      "s\n"
     ]
    }
   ],
   "source": [
    "s = \"sudh\"\n",
    "ch = len(s) -1\n",
    "while ch >= 0:\n",
    "    print(s[ch])\n",
    "    ch = ch -1"
   ]
  },
  {
   "cell_type": "code",
   "execution_count": 287,
   "id": "c0e727fd",
   "metadata": {},
   "outputs": [
    {
     "name": "stdout",
     "output_type": "stream",
     "text": [
      "i is a vowel\n",
      "n is not a vowel\n",
      "e is a vowel\n",
      "u is a vowel\n",
      "r is not a vowel\n",
      "o is a vowel\n",
      "n is not a vowel\n"
     ]
    }
   ],
   "source": [
    "name = \"ineuron\"\n",
    "vowel = \"AaEeIiOoUu\"\n",
    "\n",
    "for i in name:\n",
    "    if i in vowel:\n",
    "        print(\"{} is a vowel\".format(i))\n",
    "    else:\n",
    "        print(\"{} is not a vowel\".format(i))\n"
   ]
  },
  {
   "cell_type": "code",
   "execution_count": 288,
   "id": "f07bbfc2",
   "metadata": {},
   "outputs": [
    {
     "data": {
      "text/plain": [
       "'my name is Bilal'"
      ]
     },
     "execution_count": 288,
     "metadata": {},
     "output_type": "execute_result"
    }
   ],
   "source": [
    "\"{} name is Bilal\".format(\"my\")"
   ]
  },
  {
   "cell_type": "code",
   "execution_count": 290,
   "id": "4c3b2a50",
   "metadata": {},
   "outputs": [
    {
     "name": "stdout",
     "output_type": "stream",
     "text": [
      "enter the string you want to check palindromeabiba\n",
      "it is same\n"
     ]
    }
   ],
   "source": [
    "s = input(\"enter the string you want to check palindrome\")\n",
    "s1 = s[::-1]\n",
    "\n",
    "if s == s1:\n",
    "    print(\"it is same\")\n",
    "else:\n",
    "    print(\"it is not same\")"
   ]
  },
  {
   "cell_type": "code",
   "execution_count": 291,
   "id": "0b31451c",
   "metadata": {},
   "outputs": [],
   "source": [
    "l =  [\"Bilal\", 568, 899, 90, [578.900, 6j+90, \"hjgjjgkgk\"]]"
   ]
  },
  {
   "cell_type": "code",
   "execution_count": 292,
   "id": "3d0faa3e",
   "metadata": {},
   "outputs": [
    {
     "data": {
      "text/plain": [
       "[578.9, (90+6j), 'hjgjjgkgk']"
      ]
     },
     "execution_count": 292,
     "metadata": {},
     "output_type": "execute_result"
    }
   ],
   "source": [
    "l[4]"
   ]
  },
  {
   "cell_type": "code",
   "execution_count": 293,
   "id": "197b40b5",
   "metadata": {},
   "outputs": [
    {
     "data": {
      "text/plain": [
       "[90, 899, 568]"
      ]
     },
     "execution_count": 293,
     "metadata": {},
     "output_type": "execute_result"
    }
   ],
   "source": [
    "l[3:0:-1]"
   ]
  },
  {
   "cell_type": "code",
   "execution_count": 294,
   "id": "11db3925",
   "metadata": {},
   "outputs": [],
   "source": [
    "s = \"Sudh\"\n",
    "s = list(s)"
   ]
  },
  {
   "cell_type": "code",
   "execution_count": 295,
   "id": "cad665de",
   "metadata": {},
   "outputs": [
    {
     "data": {
      "text/plain": [
       "['Bilal', 568, 899, 90, [578.9, (90+6j), 'hjgjjgkgk'], 'S', 'u', 'd', 'h']"
      ]
     },
     "execution_count": 295,
     "metadata": {},
     "output_type": "execute_result"
    }
   ],
   "source": [
    "l + s"
   ]
  },
  {
   "cell_type": "code",
   "execution_count": 296,
   "id": "c94fe41d",
   "metadata": {},
   "outputs": [
    {
     "data": {
      "text/plain": [
       "['Bilal',\n",
       " 568,\n",
       " 899,\n",
       " 90,\n",
       " [578.9, (90+6j), 'hjgjjgkgk'],\n",
       " 'Bilal',\n",
       " 568,\n",
       " 899,\n",
       " 90,\n",
       " [578.9, (90+6j), 'hjgjjgkgk'],\n",
       " 'Bilal',\n",
       " 568,\n",
       " 899,\n",
       " 90,\n",
       " [578.9, (90+6j), 'hjgjjgkgk'],\n",
       " 'Bilal',\n",
       " 568,\n",
       " 899,\n",
       " 90,\n",
       " [578.9, (90+6j), 'hjgjjgkgk'],\n",
       " 'Bilal',\n",
       " 568,\n",
       " 899,\n",
       " 90,\n",
       " [578.9, (90+6j), 'hjgjjgkgk'],\n",
       " 'Bilal',\n",
       " 568,\n",
       " 899,\n",
       " 90,\n",
       " [578.9, (90+6j), 'hjgjjgkgk']]"
      ]
     },
     "execution_count": 296,
     "metadata": {},
     "output_type": "execute_result"
    }
   ],
   "source": [
    "l*6"
   ]
  },
  {
   "cell_type": "code",
   "execution_count": 297,
   "id": "02eb0087",
   "metadata": {},
   "outputs": [
    {
     "data": {
      "text/plain": [
       "4"
      ]
     },
     "execution_count": 297,
     "metadata": {},
     "output_type": "execute_result"
    }
   ],
   "source": [
    "len(s)"
   ]
  },
  {
   "cell_type": "code",
   "execution_count": 298,
   "id": "a6eea399",
   "metadata": {},
   "outputs": [
    {
     "data": {
      "text/plain": [
       "5"
      ]
     },
     "execution_count": 298,
     "metadata": {},
     "output_type": "execute_result"
    }
   ],
   "source": [
    "len(l)"
   ]
  },
  {
   "cell_type": "code",
   "execution_count": 299,
   "id": "d1a0c98a",
   "metadata": {},
   "outputs": [
    {
     "data": {
      "text/plain": [
       "False"
      ]
     },
     "execution_count": 299,
     "metadata": {},
     "output_type": "execute_result"
    }
   ],
   "source": [
    "\"sudh\" in l"
   ]
  },
  {
   "cell_type": "code",
   "execution_count": 300,
   "id": "193f2ee2",
   "metadata": {},
   "outputs": [
    {
     "data": {
      "text/plain": [
       "True"
      ]
     },
     "execution_count": 300,
     "metadata": {},
     "output_type": "execute_result"
    }
   ],
   "source": [
    "\"Bilal\" in l"
   ]
  },
  {
   "cell_type": "code",
   "execution_count": 301,
   "id": "a173285d",
   "metadata": {},
   "outputs": [
    {
     "data": {
      "text/plain": [
       "5"
      ]
     },
     "execution_count": 301,
     "metadata": {},
     "output_type": "execute_result"
    }
   ],
   "source": [
    "9 and 5"
   ]
  },
  {
   "cell_type": "code",
   "execution_count": 302,
   "id": "2371066d",
   "metadata": {},
   "outputs": [],
   "source": [
    "#in and operation the precedence is given from left, so 9 is considered as 1, and the rest other things are 0,\n",
    "#so 0 and 1 is always 0, this is the reason we got 5 in above operation."
   ]
  },
  {
   "cell_type": "code",
   "execution_count": 306,
   "id": "47b0481a",
   "metadata": {},
   "outputs": [
    {
     "data": {
      "text/plain": [
       "9"
      ]
     },
     "execution_count": 306,
     "metadata": {},
     "output_type": "execute_result"
    }
   ],
   "source": [
    "9 or 5"
   ]
  },
  {
   "cell_type": "code",
   "execution_count": 307,
   "id": "cd2f581c",
   "metadata": {},
   "outputs": [],
   "source": [
    "#in or operation the precedence is given from left, so 9 is considered as 1, and the rest other things are 0,\n",
    "#so 0 or 1 is always 1, this is the reason we got 9 in above operation."
   ]
  },
  {
   "cell_type": "code",
   "execution_count": 308,
   "id": "a1a9b5cf",
   "metadata": {},
   "outputs": [],
   "source": [
    "s = \" this is full stack class\"\n",
    "for i in range(1, -len(s)):\n",
    "    print(s[-i])\n",
    "    "
   ]
  },
  {
   "cell_type": "code",
   "execution_count": null,
   "id": "3180a322",
   "metadata": {},
   "outputs": [],
   "source": []
  },
  {
   "cell_type": "code",
   "execution_count": null,
   "id": "818b2138",
   "metadata": {},
   "outputs": [],
   "source": []
  }
 ],
 "metadata": {
  "kernelspec": {
   "display_name": "Python 3 (ipykernel)",
   "language": "python",
   "name": "python3"
  },
  "language_info": {
   "codemirror_mode": {
    "name": "ipython",
    "version": 3
   },
   "file_extension": ".py",
   "mimetype": "text/x-python",
   "name": "python",
   "nbconvert_exporter": "python",
   "pygments_lexer": "ipython3",
   "version": "3.9.12"
  }
 },
 "nbformat": 4,
 "nbformat_minor": 5
}
